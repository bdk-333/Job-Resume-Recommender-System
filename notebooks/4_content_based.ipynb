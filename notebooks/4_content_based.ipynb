{
 "cells": [
  {
   "cell_type": "markdown",
   "id": "0c368b30",
   "metadata": {},
   "source": [
    "## Importing libraries"
   ]
  },
  {
   "cell_type": "markdown",
   "id": "19de3490",
   "metadata": {},
   "source": [
    "Run the 1_analysis_preprocesing file before this file to create data for this file.\n",
    "\n",
    "You can create multiple variants of data by adding some preprocessing methods or removing some based on the experiement."
   ]
  },
  {
   "cell_type": "code",
   "execution_count": 1,
   "id": "21d4afd7",
   "metadata": {},
   "outputs": [],
   "source": [
    "import pandas as pd\n",
    "import numpy as np"
   ]
  },
  {
   "cell_type": "markdown",
   "id": "1031ccef",
   "metadata": {},
   "source": [
    "### Load data"
   ]
  },
  {
   "cell_type": "markdown",
   "id": "bff0f338",
   "metadata": {},
   "source": [
    "Load data from the processed files. "
   ]
  },
  {
   "cell_type": "code",
   "execution_count": 2,
   "id": "97bcbbbc",
   "metadata": {},
   "outputs": [],
   "source": [
    "# df = pd.read_csv('../data/processed/content.csv')\n",
    "df = pd.read_csv('../data/processed/6_checkpoint_final_data.csv')"
   ]
  },
  {
   "cell_type": "code",
   "execution_count": 3,
   "id": "f474c9e5",
   "metadata": {},
   "outputs": [
    {
     "data": {
      "text/plain": [
       "Index(['career_objective', 'skills', 'educational_institution_name',\n",
       "       'degree_names', 'passing_years', 'educational_results', 'result_types',\n",
       "       'major_field_of_studies', 'professional_company_names', 'start_dates',\n",
       "       'end_dates', 'related_skils_in_job', 'positions', 'responsibilities',\n",
       "       'extra_curricular_activity_types',\n",
       "       'extra_curricular_organization_names', 'role_positions', 'languages',\n",
       "       'proficiency_levels', 'certification_providers', 'certification_skills',\n",
       "       'job_position_name', 'educational_requirements',\n",
       "       'experiencere_requirement', 'age_requirement', 'skills_required',\n",
       "       'matched_score', 'resume_id', 'resume_text', 'job_id', 'jobs_text',\n",
       "       'total_experience', 'min_experience_required', 'experience_match',\n",
       "       'skills_matching_ratio', 'matching_words_count',\n",
       "       'Resume_Cluster_KMeans'],\n",
       "      dtype='object')"
      ]
     },
     "execution_count": 3,
     "metadata": {},
     "output_type": "execute_result"
    }
   ],
   "source": [
    "df.columns"
   ]
  },
  {
   "cell_type": "code",
   "execution_count": 4,
   "id": "b55f2d2c",
   "metadata": {},
   "outputs": [],
   "source": [
    "full_data = df[['matched_score', 'resume_id', 'resume_text', 'job_id', 'jobs_text']]"
   ]
  },
  {
   "cell_type": "code",
   "execution_count": 5,
   "id": "30e00274",
   "metadata": {},
   "outputs": [
    {
     "data": {
      "application/vnd.microsoft.datawrangler.viewer.v0+json": {
       "columns": [
        {
         "name": "index",
         "rawType": "int64",
         "type": "integer"
        },
        {
         "name": "matched_score",
         "rawType": "float64",
         "type": "float"
        },
        {
         "name": "resume_id",
         "rawType": "int64",
         "type": "integer"
        },
        {
         "name": "resume_text",
         "rawType": "object",
         "type": "string"
        },
        {
         "name": "job_id",
         "rawType": "int64",
         "type": "integer"
        },
        {
         "name": "jobs_text",
         "rawType": "object",
         "type": "string"
        }
       ],
       "ref": "0c71c3bc-610f-4fa3-80eb-f9198ddc2c91",
       "rows": [
        [
         "0",
         "0.85",
         "1",
         "big data analytics working database warehouse manager robust experience handling kind data. also used multiple cloud infrastructure service well acquainted them. currently search role offer development. ['big data', 'hadoop', 'hive', 'python', 'mapreduce', 'spark', 'java', 'machine learning', 'cloud', 'hdfs', 'yarn', 'core java', 'data science', 'c++', 'data structures', 'dbms', 'rdbms', 'informatica', 'talend', 'amazon redshift', 'microsoft azure'] ['the amity school engineering & technology (aset), noida'] ['b.tech'] ['2019'] [''] [] ['electronics'] ['cocacola'] ['nov 2019'] ['till date'] [['big data']] ['big data analyst']",
         "1",
         "senior software engineer b.sc computer science & engineering reputed university. technical support troubleshooting collaboration documentation system monitoring software deployment training & mentorship industry trend field visit least 1 year"
        ],
        [
         "1",
         "0.75",
         "2",
         "fresher looking join data analyst junior data scientist. experienced creating meaningful data dashboard evaluation models. ['data analysis', 'data analytics', 'business analysis', 'r', 'sas', 'powerbi', 'tableau', 'data visualization', 'business analytics', 'machine learning'] ['delhi university hansraj college', 'delhi university hansraj college'] ['b.sc (maths)', 'm.sc (science) (statistics)'] ['2015', '2018'] ['', ''] ['', ''] ['mathematics', 'statistics'] ['bib consultancy'] ['sep 2019'] ['till date'] [['data analysis', 'business analysis', 'machine learning']] ['business analyst']",
         "2",
         "machine learning (ml) engineer m.sc computer science & engineering relevant discipline reputed university machine learning leadership crossfunctional collaboration strategy development ml/nlp infrastructure prototype transformation ml system design algorithm research application development dataset selection ml testing statistical analysis r&d ml/nlp text representation data pipeline design statistical data analysis model training team collaboration research reporting algorithm analysis least 5 year(s)"
        ],
        [
         "2",
         "0.416666667",
         "3",
         "['software development', 'machine learning', 'deep learning', 'risk assessment', 'requirement gathering', 'application support', 'javascript', 'python', 'docker', 'html', 'hive', 'css', 'c', 'c++'] ['birla institute technology (bit), ranchi'] ['b.tech'] ['2018'] [''] [''] ['electronics/telecommunication'] ['axis bank limited'] ['june 2018'] ['till date'] [['unified payment interface', 'risk prediction', 'big data', 'spark', 'pyspark']] ['software developer (machine learning engineer)']",
         "3",
         "executive/ senior executive trade marketing, hygiene product master business administration (mba) trade marketing executive brand visibility, sale target field marketing, campaigns, product distribution brand head excel, kpis tracking least 3 year  brand promotion campaign management field supervision merchandising promotional activity trade marketing"
        ],
        [
         "3",
         "0.7600000000000001",
         "4",
         "obtain position fastpaced business office environment, demanding strong organizational, technical, interpersonal position utilizing skill attributes. ['accounts payables', 'accounts receivables', 'accounts payable', 'accounts receivable', 'administrative functions', 'trial balance', 'banking', 'budget', 'bi', 'closing', 'computer applications', 'credit', 'clients', 'customer service', 'data entry', 'delivery', 'driving', 'email', 'insurance', 'inventory', 'ledger', 'access', 'excel', 'outlook', 'powerpoint', 'word', 'mortgage loan', 'enterprise', 'policies', 'quickbooks', 'sales', 'sales reports', 'telecommunications', 'phone', 'workflow', 'written'] ['martinez adult education, business training center ï¼ city , state'] ['computer application specialist certificate program'] ['2008'] [] [] ['computer applications'] ['company name ï¼ city , state', 'company name ï¼ city , state', 'company name ï¼ city , state', 'company name ï¼ city , state', 'company name ï¼ city , state', ''] ['january 2011', 'january 2008', 'january 2006', 'january 2004', 'january 2001', ''] ['november 2015', 'january 2010', 'january 2008', 'january 2006', 'january 2004', ] [['accounts receivables', 'banking', 'g/l accounts', 'accounts payables', 'credit cards', 'reconcile', 'commission reports', 'credit checks', 'customer service', 'international travel'], ['data entry', 'accounts receivable', 'cash handling', 'customer communication', 'inventory reports', 'problemsolving'], ['mortgage processing', 'analytical aptitude', 'credit reports', 'customer communication'], ['commercial auto underwriting', 'data entry', 'application review', 'customer communication'], ['personal auto underwriting', 'data entry', 'policy review', 'customer service'], ['training', 'medical record review', 'data entry', 'document design', 'customer service', 'team performance']] ['accountant', 'accounts receivable clerk', 'mortgage underwriter', 'commercial auto underwriter', 'personal auto underwriter', 'claims examiner']",
         "4",
         "business development executive bachelor/honors apparel sourcing quality garment sourcing reliable partner buyer/vendor communication 1 3 year age 22 30 year fast typing skill ieltsinternet browsing & online work ability."
        ],
        [
         "4",
         "0.65",
         "5",
         "professional accountant outstanding work ethic integrity seeking make valuable contribution utilizing strong analytical, organizational, communication, computer skills. ['analytical reasoning', 'compliance testing knowledge', 'effective time management', 'public private accounting', 'accounting', 'accounting systems', 'accounts payable', 'accounts receivable', 'administrative', 'ar', 'billing', 'closing', 'client', 'clients', 'documentation', 'financial', 'financial reports', 'preparation financial reports', 'preparation financial statements', 'fixed assets', 'managing', 'monthend closing', 'policies', 'maintain records', 'reporting', 'research', 'sales', 'tax', 'taxes', 'tax returns', 'annual reports', 'yearend'] ['kent state university'] ['bachelor business administration'] [] ['3.84'] [] ['accounting'] ['company name', 'company name', 'company name', 'company name', 'company name'] ['january 2016', 'january 2016', 'january 2012', 'january 2009', 'january 2006'] ['current', 'january 2016', 'january 2015', 'january 2011', 'january 2009'] [['collections', 'accounts receivable', 'financial reports', 'ar aging', 'customer queries', 'sales use tax audits'], ['financial statements', 'gaap', 'asset', 'liability', 'capital account', 'accounting controls', 'audits'], ['sales tax', 'tax returns', 'business licenses', 'annual reports', 'tax audits'], ['financial reporting', 'fixed assets', 'sales tax', 'cash projections', 'general ledger accounting'], ['audit procedures', 'substantive tests', 'internal accounting', 'tests compliance', 'audit programs']] ['staff accountant', 'senior accountant', 'tax analyst', 'staff accountant ii', 'staff auditor ii'] ['professional organization', 'honor society', 'honor society', 'honor society'] ['ohio society cpas', 'beta alpha psi', 'golden key international honour society', 'beta gamma sigma'] [, , , ]   ['ohio notary public'] []",
         "5",
         "senior io engineer bachelor science (bsc) computer science io lifecycle requirement analysis native framework io development api integration technical communication ui design performance optimization feature collaboration bug fixing code translation highperformance development task management crossteam collaboration code quality least 4 year  io io app developer io application development io development mobile apps developer (ios) native io swift (ios) swift ui"
        ],
        [
         "5",
         "0.85",
         "6",
         "secure specialist, desktop support, network administration, database administrator, technical support specialist related position growing organization microsoft certification, technical aptitude, networking, window mac os, apple android ios, web development, application development, linux, microsoft applications, managing, testing, client support, help desk, technical support, troubleshooting, leadership skill benefit work well myself. ['microsoft applications', 'network security', 'networking', 'pc hardware software installation, configuration, troubleshooting', 'remote desktop help desk management', 'verbal communication', 'technical support', 'team leadership', 'programming languages', 'oncall tech support', 'windows & mac os', 'wiring/wire spicing: cat3, cat5, cat5e, coaxial', 'management', 'voip, tcp/ip, ipsec, atm, ss7, ipx, dns, bind, dhcp, hsrp lan/wan architecture', 'application development', 'voice ip telephone', 'inventory management'] ['glen oak high school', 'glen oak high school'] ['bachelor degree', 'associate degree'] [, ] [, ] [, ] ['electronics communication engineering technology', 'software development'] ['', 'company name', 'company name'] ['august 2006', 'august 2013', 'july 2014'] ['january 2013', 'september 2014', 'current'] [['microsoft applications', 'windows applications', 'mac o ios', 'network routers', 'cisco asa firewall', 'juniper netscreen', 'lans, wans', 'cloud experience'], ['microsoft applications', 'windows mac os', 'linux', 'web development'], ['customer support', 'technical support', 'network administration', 'inventory management']] ['engineering system installer', 'it technician/qa tester', 'installation/service technician']      ['microsoft certification'] []",
         "6",
         "ai engineer bachelor master degree computer science, engineering, related field. machine learning design data analysis model training ai integration innovation crossfunctional collaboration model deployment documentation analytical skill communication team collaboration   python r java tensorflow pytorch scikitlearn."
        ],
        [
         "6",
         "0.65",
         "7",
         "['machine learning', 'linear regression', 'ridge regression', 'lasso regression', 'tableau', 'time series analysis'] ['djr college university'] ['b.tech'] ['2020'] [''] [''] ['it'] ['remiro amio'] ['jan 2019'] ['sep 2019'] [] ['intern']",
         "5",
         "senior io engineer bachelor science (bsc) computer science io lifecycle requirement analysis native framework io development api integration technical communication ui design performance optimization feature collaboration bug fixing code translation highperformance development task management crossteam collaboration code quality least 4 year  io io app developer io application development io development mobile apps developer (ios) native io swift (ios) swift ui"
        ],
        [
         "7",
         "0.65",
         "8",
         "['maintenance', 'corrective maintenance', 'documentation', 'industrial machinery', 'preventive maintenance', 'sensors', 'biotechnology', 'electrical mechanical', 'estimation', 'hydraulics', 'mechanical technician', 'pneumatics', 'project manager', 'sop', 'manufacturing process', 'apqp', 'assembly', 'circuit boards', 'dmm', 'electrical test', 'esd', 'first article inspection', 'inspection', 'medical devices', 'oscilloscope', 'production process', 'schematic', 'soldering', 'surface mount', 'test engineer', 'throughhole', 'wiring', 'calibration', 'control systems', 'packaging', 'process control', 'sensor', 'temperature', 'and humidity', 'control system design', 'electrical engineer', 'engineer', 'entry level', 'ieee', 'mechanical/electrical engineer', 'proactive', 'self motivated', 'testing', 'training', 'electrical engineering', 'pr', 'public relations'] ['polytechnic university puerto rico'] ['bachelor science'] ['2009'] ['2.50'] ['gpa'] ['electrical engineering'] ['company name', 'company name', 'company name'] ['january 2013', 'january 2011', 'january 2005'] ['current', 'january 2012', 'january 2011'] [['electrical test', 'soldering', 'wiring', 'troubleshooting'], ['calibration', 'troubleshooting', 'preventive maintenance', 'installation'], ['project estimation', 'corrective maintenance', 'preventive maintenance', 'installation']] ['engineering technician', 'instrument technician', 'project manager assistance']    ['spanish'] [''] ['ait'] []",
         "5",
         "senior io engineer bachelor science (bsc) computer science io lifecycle requirement analysis native framework io development api integration technical communication ui design performance optimization feature collaboration bug fixing code translation highperformance development task management crossteam collaboration code quality least 4 year  io io app developer io application development io development mobile apps developer (ios) native io swift (ios) swift ui"
        ],
        [
         "8",
         "0.55",
         "9",
         "certified data analyst degree electronics engineering, hand experience analyzing & interpreting data good numerical accuracy. ['python', 'machine learning', 'mysql', 'data mining', 'deep learning', 'data analysis', 'computer vision', 'flask api', 'predictive modeling', 'aws', 'scikitlearn', 'numpy', 'statistical analysis', 'multivariate analysis', 'decision trees', 'random forest', 'xgboost', 'nlp'] ['nagpur university'] ['b.tech/b.e.'] ['2019'] [''] [''] ['electronics/telecommunication'] ['amz loan mortgage erc analytics'] ['jun 2019'] ['till date'] [['data analysis', 'employee satisfaction', 'hr collaboration']] ['associate analyst']      ['google cloud'] []",
         "7",
         "mechanical engineer bachelor science (bsc) mechanical engineering, diploma mechanical machinery maintenance troubleshooting report preparation log maintenance 2 5 year age 25 40 year maintenance troubleshooting mechanical"
        ],
        [
         "9",
         "0.383333333",
         "10",
         "['django', 'python', 'relational databases', 'restapi', 'github', 'jira', 'postgresql', 'software development', 'debugging', 'machine learning', 'natural language processing', 'artificial intelligence', 'data analysis', 'docker', 'tornado', 'software developer', 'project management'] ['dr. virendra swaroop institute computer studies, kanpur', 'pranveer singh institute technology, kanpur'] ['bca', 'mca'] ['2016', '2019'] [, ] [, ] ['computers', 'computers'] ['daffodil software pvt ltd'] ['jan 2019'] ['till date'] [['developing', 'designing', 'optimizing automation script', 'crons', 'managing database conflicts', 'executing solution']] ['software developer']",
         "4",
         "business development executive bachelor/honors apparel sourcing quality garment sourcing reliable partner buyer/vendor communication 1 3 year age 22 30 year fast typing skill ieltsinternet browsing & online work ability."
        ],
        [
         "10",
         "0.75",
         "11",
         "enthusiastic, knowledgeable professional experience proven success program project management, online instructor led design, development facilitation. outstanding problemsolving skills, proven implementation accounting software packages, significantly improving billing reporting processes. excellent management skills, encouraging career growth subordinate additional training opportunities. keep uptodate industry change professional affiliation. ['microsoft office suite', 'videoscribe software', 'peoplesoft finance applications', 'accounting', 'billing', 'change management', 'contracts', 'client relations', 'database', 'delivery', 'eclipse', 'finance', 'financial reporting', 'financial statements', 'front office', 'hiring', 'instructor', 'instructional design', 'leadership training', 'logistics', 'managing', 'needs analysis', 'payables', 'peoplesoft hrms', 'peoplesoft', 'personnel', 'program management', 'project management', 'project plans', 'teaching', 'training materials', 'training design development', 'training material', 'training programs', 'upgrade', 'view'] ['california state university, hayward', 'university maryland, college park', 'college arts, science, technology'] ['master science', 'bachelor science', 'bachelor science'] ['2003', '1993', '1983'] ['4.0', , ] ['gpa', , ] ['education option online teaching learning', 'accounting', 'business administration'] ['company name', 'company name', 'company name'] ['january 1995', 'january 2003', 'january 1993'] ['current', 'january 2004', 'january 1995'] [['project management', 'training facilitation', 'instructional design', 'development', 'client relations', 'program management', 'accounting'], ['instructional design', 'training management', 'database management'], ['online course instruction']] ['senior manager', 'instructional designer/training manager/database manager/senior accountant', 'online course instructor']",
         "8",
         "mechanical designer bachelor’s degree mechanical engineering reputed institute. design creation cad drawing design optimization team collaboration compliance assurance design review manufacturing support documentation least 5 year age least 24 year autocad solidworks"
        ],
        [
         "11",
         "0.65",
         "12",
         "['r', 'python', 'tableau', 'power bi', 'sql', 'sas', 'deep learning', 'neural networks', 'artificial intelligence'] ['rsee monjee institute'] ['bca'] ['2020'] [''] [''] [''] ['de funds'] ['apr 2020'] ['till date'] [['predictive data analysis', 'large scale data handling']] ['business alyst'] [''] [''] ['']   [''] []",
         "9",
         "asst. manager/ manger (administrative) bachelor/honors administrative support scheduling filing & documentation communication team support equipment maintenance information provision inventory management team collaboration oh policy development safety advice risk assessment policy review oh training safety inspection unsafe act prevention incident investigation report preparation least 5 year age least 28 year •administration •health safety environment •safety security management"
        ],
        [
         "12",
         "0.65",
         "13",
         "['data analytics', 'linear regression', 'logistic regression', 'business intelligence', 'business analysis', 'graphql', 'python'] ['raja kashwant singh general college'] ['b.a'] ['2020'] [''] [''] ['economics'] ['d&d consultancy', 'tanisha quromba brokerage'] ['jul 2020', 'dec 2019'] ['till date', 'may 2020'] [, ] ['associate consultant', 'junior analyst intern'] ['award', 'competition', 'competition'] ['', '', 'young economist innovation'] ['silver medal economics junior award', 'finalist business solution pan india', 'winner runnerup 2018 2019 respectively']",
         "2",
         "machine learning (ml) engineer m.sc computer science & engineering relevant discipline reputed university machine learning leadership crossfunctional collaboration strategy development ml/nlp infrastructure prototype transformation ml system design algorithm research application development dataset selection ml testing statistical analysis r&d ml/nlp text representation data pipeline design statistical data analysis model training team collaboration research reporting algorithm analysis least 5 year(s)"
        ],
        [
         "13",
         "0.316666667",
         "14",
         "energetic, innovative engineering undergraduate, passionate machine learning, nlp deep learning solving realworld problems, aiming work organization providing great learning experience growth opportunity mutual benefit. ['c', 'c++', 'python', 'java', 'html', 'css', 'javascript', 'data structures', 'sql', 'pycharm', 'jupyter notebook', 'google colab', 'code blocks', 'matlab', 'turbo c++', 'ms office', 'scikitlearn', 'tensorflow', 'opencv', 'numpy', 'pytesseract', 'keras'] ['dayalbagh educational institute, dayalbagh, agra', \"st. clare's senior secondary school, agra\", \"st. clare's senior secondary school, agra\"] ['b.tech. (electrical engineering specialization computer science)', 'xii', 'x'] ['2023', '2019', '2017'] ['9.35 (till 4 semesters)', '94%', '10'] ['cgpa', 'percentage', 'cgpa'] ['electrical engineering specialized computer science', '', ''] ['genisup india pvt. ltd.', 'vugs technologies'] ['july 2021', 'may 2021'] ['aug 2021', 'june 2021'] [['nlp', 'web scraping', 'bs4', 'lda topic modeling'], ['ocr', 'pytesseract', 'ner text classification']] ['intern', 'intern'] ['competition', 'competition', 'membership'] ['the ece society, bit mesra, ranchi', 'sggscc, university delhi', 'national service scheme'] ['participant', 'winner', 'member']   ['udemy', 'coursera', 'udemy', 'sololearn'] [['deep learning', 'computer vision', 'opencv', 'ssd', 'gans'], ['neural networks', 'deep learning'], ['machine learning', 'python', 'r', 'data science'], ['python']]",
         "8",
         "mechanical designer bachelor’s degree mechanical engineering reputed institute. design creation cad drawing design optimization team collaboration compliance assurance design review manufacturing support documentation least 5 year age least 24 year autocad solidworks"
        ],
        [
         "14",
         "0.583333333",
         "15",
         "soontobe computer science graduate eager continue exploring inspiring, innovative field android development. seasoned intern, looking join android development team at&t junior developer. ['java', 'spring', 'javascript', 'css', 'html', 'rest apis', 'react native', 'kotlin', 'postgresql', 'mysql'] ['university santa clara'] ['bachelor science'] ['current'] ['3.6'] ['gpa'] ['computer science'] ['genesis10', 'novalsys, inc'] ['may 2021', 'january 2021'] ['current', 'may 2021'] [['java', 'kotlin', 'android development', 'performance monitoring', 'quality assurance', 'problem solving', 'team collaboration'], ['android development', 'bug fixing', 'performance improvement', 'crossfunctional collaboration', 'data integrity', 'feature development']] ['android developer intern', 'android developer intern']      ['aws', 'owasp'] [, ]",
         "7",
         "mechanical engineer bachelor science (bsc) mechanical engineering, diploma mechanical machinery maintenance troubleshooting report preparation log maintenance 2 5 year age 25 40 year maintenance troubleshooting mechanical"
        ],
        [
         "15",
         "0.85",
         "16",
         "['machine learning', 'method development', 'artificial intelligence', 'data modeling', 'data visualization', 'data validation', 'deep learning', 'mysql', 'mongodb', 'python', 'plotly', 'seaborn', 'matplotlib'] ['cdac acts'] ['b.tech'] ['2020'] [''] [''] ['electronics telecommunication'] ['bluem solutions'] ['jun 2020'] ['till date'] [['machine learning', 'python']] ['associate software engineer analyst']      ['aws'] []",
         "10",
         "database administrator (dba) bachelor science (bsc) computer science database design & development sql query optimization data integrity & security bi solution development etl process implementation database maintenance backup & restore management index rebuilding & performance tuning sql server clustering & high availability sql server replication high availability group management database monitoring & troubleshooting least 1 year age 25 40 year asp.net mvc strong understanding database design database administrator (dba) database management elasticsearch mongodb mysql database nosql database redis"
        ],
        [
         "16",
         "0.85",
         "17",
         "['budget', 'hardware', 'network systems', 'database', 'dec', 'documentation', 'inspection', 'logistics', 'meetings', 'ms excel', 'microsoft office', 'outlook', 'powerpoint', 'network', 'networking', 'operating systems', 'oracle', 'personnel', 'presentations', 'progress', 'quality', 'maintain documentation', 'routers', 'safety', 'scheduling', 'shipping', 'spreadsheets', 'supervision'] ['university phoenix texas'] ['business administration'] ['2019'] [''] [''] ['business administration'] ['company name', 'company name', 'company name', 'company name'] ['01/2014', '12/2012', '01/2011', '07/2004'] ['current', , '12/2013', '12/2010'] [['ms excel', 'powerpoint', 'oracle'], ['networking'], ['documentation', 'shipping', 'production'], ['microsoft office', 'database', 'network systems', 'production']] ['engineering technician', 'consultant', 'engineering technician', 'manufacturing lead']",
         "11",
         "system administrator (operation & maintenance server, storage & service desk system) bachelor/honors hardware & network installation troubleshooting & diagnostics user training & capacity building hardware replacement fault repair & system setup software license & account management backup management system update & maintenance server & storage management documentation & technical specification data protection & disaster recovery storage & database planning power & disk backup incident management & escalation service restoration user communication & verification incident classification & resolution major incident escalation problem & error management task assignment & execution 4 5 year  cisco linux operation & maintenance server"
        ],
        [
         "17",
         "0.626666667",
         "18",
         "machine learning engineer seeking assignment deep learning, reinforcement learning, tensorflow. keras. ['artificial intelligence', 'deep learning', 'reinforcement learning', 'tensorflow keras', 'scikit learn', 'numpy', 'pandas', 'matplotlib'] ['iiit d&m kancheepuram, chennai'] ['b.tech(it)'] ['2019'] [''] [''] ['information technology'] ['larsen & toubro'] ['dec 2019'] ['till date'] [['ocr', 'machine learning']] ['analyst intern'] ['scholarship'] ['ksst'] ['scholar']",
         "3",
         "executive/ senior executive trade marketing, hygiene product master business administration (mba) trade marketing executive brand visibility, sale target field marketing, campaigns, product distribution brand head excel, kpis tracking least 3 year  brand promotion campaign management field supervision merchandising promotional activity trade marketing"
        ],
        [
         "18",
         "0.333333333",
         "15",
         "soontobe computer science graduate eager continue exploring inspiring, innovative field android development. seasoned intern, looking join android development team at&t junior developer. ['java', 'spring', 'javascript', 'css', 'html', 'rest apis', 'react native', 'kotlin', 'postgresql', 'mysql'] ['university santa clara'] ['bachelor science'] ['current'] ['3.6'] ['gpa'] ['computer science'] ['genesis10', 'novalsys, inc'] ['may 2021', 'january 2021'] ['current', 'may 2021'] [['java', 'kotlin', 'android development', 'performance monitoring', 'quality assurance', 'problem solving', 'team collaboration'], ['android development', 'bug fixing', 'performance improvement', 'crossfunctional collaboration', 'data integrity', 'feature development']] ['android developer intern', 'android developer intern']      ['aws', 'owasp'] [, ]",
         "12",
         "project coordinator (civil) •bachelor business administration (bba) human resource management project design data analysis accord/alliance knowledge bnbc standard cost estimation feasibility study documentation compliance site monitoring policy enforcement legal compliance data management team collaboration 5 10 year age 30 40 year auto cad 2d 3d civil 3d civil construction civil engineering"
        ],
        [
         "19",
         "0.65",
         "19",
         "['machine learning', 'data science', 'deep learning', 'decision trees', 'random forest', 'xgboost', 'catboost', 'classification', 'regression', 'scikit learn', 'numpy', 'pandas', 'opencv', 'python', 'matplotlib', 'loss optimization'] ['raja birsimbal college, ranchi'] ['b.tech'] ['2019'] [''] [''] ['cse'] ['tml infotech'] ['mar 2019'] ['till date'] [['machine learning', 'deep learning', 'data science']] ['junior machine learning deep learning engineer'] ['specialization'] ['deeplearning.ai'] ['']",
         "13",
         "executive/ sr. executive bachelor science (bsc) computer science & engineering hardware & software installation system monitoring support networking expertise mail server administration security management troubleshooting & repair operation support 3 5 year age 40 year"
        ],
        [
         "20",
         "0.2166666666666666",
         "20",
         "['aderant/cms', 'excel', 'quickbooks pro', 'sql', 'access', 'peachtree', 'hyperion essbase', 'financial reporting', 'us gaap principles', 'ifrs', 'bookkeeping', 'budget development', 'individual tax returns'] ['temple university'] ['bachelor business administration'] ['2002'] [] [] ['accounting'] ['company name', 'company name', 'company name'] ['mar 2006', 'jan 2005', 'aug 2002'] ['current', 'mar 2006', 'jan 2005'] [, , ] ['senior accountant', 'accountant', 'financial analyst'] ['vice president'] ['aps (accounting professional society)'] ['vice president']   ['new york state'] []",
         "7",
         "mechanical engineer bachelor science (bsc) mechanical engineering, diploma mechanical machinery maintenance troubleshooting report preparation log maintenance 2 5 year age 25 40 year maintenance troubleshooting mechanical"
        ],
        [
         "21",
         "0.85",
         "21",
         "obtain position field civil engineering technician apply impart knowledge gained experience college, well acquire new insight experience application. ['arcview', 'autocad', 'drafting', 'gps', 'graphic', 'inspection', 'microsoft access', 'microstation', 'file maintenance', 'repairs', 'supervision', 'surveys', 'utilities'] ['university northern iowa', 'hawkeye community college'] ['bs', 'aas'] ['may 2004', 'may 1998'] ['', ''] [, ] ['construction management', 'civil construction engineering technology'] ['company name', 'company name', 'company name'] ['august 2007', 'april 2006', 'may 1998'] ['current', 'august 2007', 'april 2006'] [['design', 'drafting', 'microstation', 'geopak', 'arcview', 'microsoft access', 'survey', 'trimble gps', 'topcon total station', 'file maintenance'], ['topo graphic surveys', 'land surveys', 'construction surveys', 'ashtec gps', 'trimble 5600 total station', 'autocad', 'eagle point'], ['surveying', 'trimble gps', 'geodimeter total station', 'environmental sampling', 'construction inspection', 'stream gauging', 'microstation']] ['engineering technician', 'senior engineering technician', 'engineering technician'] ['home improvement projects', 'outdoor sports'] ['', ''] ['', 'participant']",
         "14",
         "network support engineer diploma, bachelor/honors mikrotik router configuration olt device setup & management integration billing software network monitoring tool integration connectivity troubleshooting technical support & escalation installation & configuration gpon/epon expertise cisco, olt, mikrotik knowledge least 3 year age 25 35 year cc (cisco certified network associate) gpon hardware & networking iig isp enabled service olt onu"
        ],
        [
         "22",
         "0.65",
         "22",
         "extremely motivated constantly develop skill grow professionally. confident ability come innovative solution maintain better software development practices. ['python', 'machine learning', 'deep learning', 'data analysis', 'computer vision', 'aws', 'scikitlearn', 'numpy', 'java', 'c++', 'sap'] ['v.v.i.t'] ['b.tech'] ['2018'] [''] [''] [''] ['acs solution pvt. ltd.'] ['may 2018'] ['ongoing'] [['machine learning', 'react', 'mqtt', 'cloud']] ['software engineer machine learning'] ['competition'] ['bits goa'] ['runnerup, solinovate']",
         "3",
         "executive/ senior executive trade marketing, hygiene product master business administration (mba) trade marketing executive brand visibility, sale target field marketing, campaigns, product distribution brand head excel, kpis tracking least 3 year  brand promotion campaign management field supervision merchandising promotional activity trade marketing"
        ],
        [
         "23",
         "0.85",
         "23",
         "obtain position teamwork, integrity professionalism high standard company's mission statement. engaging new challenge learning experiences. ['material management', 'law enforcement', 'mechanical test equipment', \"pc's\", 'ms office', '10key touch', 'customer service', 'forklift crane certification', 'selfmotivation', 'leadership', 'ndt level ii', 'mechanical theory', 'pneumatic hydraulic theory', 'automation', 'closing', 'coaching', 'oral', 'hardware', 'customer support', 'designing', 'direction', 'hand tools', 'inventory', 'iso 9001', 'machinery', 'materials', 'mechanical', 'personnel', 'processes', 'procurement', 'programming', 'progress', 'quality', 'quality control', 'receiving', 'repairs', 'repairing', 'research', 'robotic systems', 'safety', 'scheduling', 'shipping', 'simulation', 'supervisor', 'test equipment', 'troubleshooting', 'written', 'articles'] ['monterey peninsula college', 'san francisco police academy'] ['general courses', 'technical diploma'] [, ] [, ] [, ] [, ] ['company name', 'company name', 'company name', 'company name', 'company name', 'company name'] ['05/2014', '04/2013', '11/2007', '10/2006', '11/2004', '07/2001'] [, '05/2014', '06/2012', '11/2007', '05/2006', '02/2004'] [['designing', 'simulation', 'implementation', 'commission', 'programming', 'troubleshooting', 'maintenance', 'automation', 'electrical systems', 'direction', 'coaching', 'organization', 'communication', 'safety', 'technical problem solving', 'supervision', 'inventory management'], ['repair services', 'customer support', 'equipment installation', 'fire alarm systems', 'preventive maintenance'], ['facility operation', 'machinery maintenance', 'testing equipment', 'wind tunnels', 'mechanical modification', 'installation', 'system inspection', 'report generation'], ['logistics coordination', 'equipment maintenance', 'troubleshooting', 'inventory management', 'compliance'], ['materials expediting', 'configuration verification', 'problem solving', 'auditing', 'promis software', 'logistics'], ['production planning', 'materials management', 'schedule management', 'order management', 'communication']] ['equipment engineering technician', 'mechanical technician', 'operating engineer / test technician', 'logistics coordinator / sr. lab technician', 'production control analyst', 'material/production planner']",
         "15",
         "intern (generative ai engineering 2d/3d image generation) bachelor science (bsc) generative ai development evolutionary computation deep learning optimization expert system design knowledge representation data preprocessing model training research & integration  age 20 35 year"
        ],
        [
         "24",
         "0.65",
         "24",
         "expertise eda modeler. like learn data contains well model depending problem. also leverage different visualization tool aid understanding extracted data finally use required ml algorithm get outcome. ['data analysis', 'business analysis', 'machine learning', 'regression analysis', 'time series analysis', 'sql', 'base sas', 'python', 'nlp', 'credit risk', 'tableau', 'statistical analysis', 'data visualization', 'data science', 'r', 'power bi'] ['kvoct, pune', 'kvoct, pune'] ['b.ca', 'm.ca'] ['2018', '2020'] [, ] [, ] [, ] ['passionate solution'] ['feb 2020'] ['ongoing'] [['eda', 'data cleaning', 'data modeling']] ['jr. data scientist']",
         "16",
         "executive vat bba accounting finance mushak form maintenance vat software & m office maintenance vat ledger management vat challan coordination liaison vat office vat documentation assigned task 1 3 year  vat tax"
        ],
        [
         "25",
         "0.65",
         "25",
         "dedicated wellrounded software engineer passion math, computer science, elite education. bringing 12+ year teaching expertise help amazon's career fulfillment student feel joy pride comprehensive javascript computer science program past 150+ high school students. eager teach basics, get student tool need, foster passion reach goals. ['html', 'css', 'javascript (angular)', 'python', 'git', 'algorithm design', 'technical writing', 'data analysis', 'interpersonal communication', 'patience'] ['princeton international school mathematics science', 'new york university'] ['master science', 'bachelor science'] ['2015', '2012'] ['', ''] [, ] ['computer science', 'computer science'] ['princeton international school mathematics science', 'hka enterprises', 'academy mine'] ['2017', '2014', '2012'] ['current', '2017', '2014'] [['javascript', 'teaching', 'program development'], ['technical support', 'database design', 'software testing'], ['agile/scrum', 'code writing', 'cicd']] ['computer science teacher', 'software engineer', 'junior software engineer']      ['aws', 'csm'] [, ]",
         "7",
         "mechanical engineer bachelor science (bsc) mechanical engineering, diploma mechanical machinery maintenance troubleshooting report preparation log maintenance 2 5 year age 25 40 year maintenance troubleshooting mechanical"
        ],
        [
         "26",
         "0.85",
         "26",
         "['econometrics', 'problem solving', 'data analytics', 'data modeling', 'data validation', 'data reporting', 'business intelligence', 'data manipulation', 'data mining', 'machine learning', 'r programming', 'sql', 'oracle', 'scorecard', 'ifrs'] ['shaheed bhagat singh college (m), university delhi', 'indian statistical institute (isi), delhi'] ['b.a (economics)', 'msc (economics)'] ['2017', '2019'] ['', 'gold medalist'] ['', ''] ['economics', 'economics'] ['home credit india finance'] ['nov 2019'] ['till date'] [['data analytics', 'machine learning']] ['finance technology expert'] ['award'] ['indian statistical institute (isi), delhi'] ['gold medalist']",
         "17",
         "sr.officer / executive internal audit master commerce (mcom) accounting, must cacc certification ca firm internal audit assistance voucher & bill verification cost sheet analysis l/c voucher verification expense verification salary & wage verification market rate verification 2 4 year  cacc reputed ca firm internal audit compliance"
        ],
        [
         "27",
         "0.596666667",
         "3",
         "['software development', 'machine learning', 'deep learning', 'risk assessment', 'requirement gathering', 'application support', 'javascript', 'python', 'docker', 'html', 'hive', 'css', 'c', 'c++'] ['birla institute technology (bit), ranchi'] ['b.tech'] ['2018'] [''] [''] ['electronics/telecommunication'] ['axis bank limited'] ['june 2018'] ['till date'] [['unified payment interface', 'risk prediction', 'big data', 'spark', 'pyspark']] ['software developer (machine learning engineer)']",
         "18",
         "management trainee mechanical fresh graduate bachelor’s degree mechanical engineering related field. management trainee mechanical system maintenance & troubleshooting performance analysis project support process improvement training & development administrative support  age least 22 year computer skill good communication skill mechanical engineering quick learner hard working"
        ],
        [
         "28",
         "0.85",
         "27",
         "['api', 'approach', 'atl', 'audio', 'backup', 'broadcast', 'c++', 'cli', 'com', 'ca', 'hardware', 'concept', 'content', 'clients', 'documentation', 'dynamic html5', 'editing', 'xml', 'ftp', 'functional', 'drawing', 'gui', 'http', 'ids', 'innovation', 'explorer', 'ip', 'javascript', 'json', 'lan', 'mb', 'c#', 'mfc', 'office', 'win', 'windows', '2000', 'migration', 's', 'oop', 'page', 'proxy', 'rendering', 'san', 'scrum', 'servers', 'specification', 'team management', 'threads', 'troubleshoot', 'video', 'video editing', 'visual c++', 'workflow', 'writer'] ['illinois institute technology', 'national institute technology'] ['m.s', 'b.e'] ['', ''] ['', ''] ['', ''] ['computer science', 'electronics communication engineering'] ['company name', 'company name', 'company name', 'company name'] ['september 2009', 'november 2005', 'august 1997', 'august 1994'] ['current', 'august 2009', 'october 2005', 'july 1997'] [['visual c++', 'windows', 'stl', 'oop', 'mfc', 'threads', 'file maps', 'atl', 'ipc', 'ftp', 'tcp', 'http', 'xml', 'json', 'services', 'web services', 'rest api', 'soa', 'media format standards', 'codec sdk integration', 'mpegdash', 'api design documentation'], ['team management', 'development process document', 'peer code review', 'crash dump analysis'], ['c++', 'win32', 'threads', 'gui'], ['project medium management tools', 'render bank', 'video effects']] ['software engineering manager', 'software engineering manager', 'principal software engineer', 'software engineer']",
         "2",
         "machine learning (ml) engineer m.sc computer science & engineering relevant discipline reputed university machine learning leadership crossfunctional collaboration strategy development ml/nlp infrastructure prototype transformation ml system design algorithm research application development dataset selection ml testing statistical analysis r&d ml/nlp text representation data pipeline design statistical data analysis model training team collaboration research reporting algorithm analysis least 5 year(s)"
        ],
        [
         "29",
         "0.75",
         "16",
         "['machine learning', 'method development', 'artificial intelligence', 'data modeling', 'data visualization', 'data validation', 'deep learning', 'mysql', 'mongodb', 'python', 'plotly', 'seaborn', 'matplotlib'] ['cdac acts'] ['b.tech'] ['2020'] [''] [''] ['electronics telecommunication'] ['bluem solutions'] ['jun 2020'] ['till date'] [['machine learning', 'python']] ['associate software engineer analyst']      ['aws'] []",
         "6",
         "ai engineer bachelor master degree computer science, engineering, related field. machine learning design data analysis model training ai integration innovation crossfunctional collaboration model deployment documentation analytical skill communication team collaboration   python r java tensorflow pytorch scikitlearn."
        ],
        [
         "30",
         "0.383333333",
         "28",
         "want join role experiment learn new type data increase ability build complex model future. ['deep learning', 'machine learning', 'artificial intelligence', 'linear regression', 'software engineering', 'python', 'java', 'sap', 'c', 'c++', 'jenkins', 'kubernetes', 'docker', 'backend'] ['jawaharlal nehru university'] ['b.tech'] ['2019'] [] [] ['civil'] ['accenture'] ['jan 2019'] ['jan 2020'] [['sap', 'data loading', 'configuration', 'user stories']] ['application development associate'] [] ['google cloud platform'] ['ai cloud']",
         "19",
         "hr officer •bachelor business administration (bba) human resource management •bba/mba hrm/management reputed university. relationship building hr collaboration policy development training management record keeping compliance employee development policy enforcement communication task execution  age 18 30 year human resource management"
        ],
        [
         "31",
         "0.85",
         "29",
         "computer science graduate 2+ year experience system management, information technology, data administration. demonstrated exceptional knowledge phase multiple framework application infrastructures, development, technical process improvement, system integration. ['c++', 'python', '.ney(vb, asp)', 'css', 'javascript', 'visual basic', 'visual foxpro', 'analytical process improvement', 'risk assessment & tracking', 'data & network management', 'scrum & agile'] ['new york university'] ['bachelor science'] ['2017'] [''] [''] ['computer science'] ['beckman coulter', 'blueocean biomedical', 'mathworks'] ['2/2019', '1/2018', '5/2016'] ['6/2020', '1/2019', '8/2016'] [, , ] ['information system assistant', 'it associate', 'web developer intern']",
         "20",
         "devops engineer bachelor/honors opensource technology ci/cd culture & tooling product availability & scalability automation (build & deploy) monitoring & reliability infrastructure innovation software engineering velocity infrastructure resiliency security & data availability least 3 year  ansible aws cloud cloud platform devops docker kubernetes java reactjs terraform"
        ],
        [
         "32",
         "0.85",
         "30",
         "['operations management', 'change management', 'inventory control', 'policy/program development', 'supervision training', 'sound judgment', 'computersavvy', 'calm pressure', 'complex problem solving', 'motivational', 'continuous improvement', 'out box thinking', 'analytical logical', 'strong leadership skills', 'lean manufacturing management', 'six sigma tool methodologies', 'rcm', 'fmea', 'dmaic', 'pfd', 'six sigma certified', 'microsoft office 20032011', 'microsoft visio, 20082010', 'business objects', 'sap', 'apple lion', 'pages', 'keynote', 'numbers', 'microsoft access 2010', 'visual studio 20082010', 'microsoft project', 'netbeans', 'textpad', 'sql server 2008', 'powersteering', 'tango', 'html', 'css', 'java', 'java script', 'c++', 'vb.net', 'asp.net', 'web design 1', 'web design 2', 'algorithms', 'software engineering', 'vb.net', 'asp.net', 'apple', 'budget management', 'business objects', 'c++', 'calculator', 'coach', 'interpersonal skills', 'continuous improvement', 'css', 'client', 'customer relations', 'customer service', 'documentation', 'facilities management', 'financial reporting', 'gui', 'html', 'human resource management', 'hr', 'inventory', 'inventory levels', 'inventory control', 'java', 'java 1', 'java 2', 'java script', 'leadership skills', 'lean manufacturing', 'managing', 'manufacturing process', 'materials', 'microsoft access', 'microsoft office', 'microsoft project', 'microsoft visio', 'works', 'personnel', 'policies', 'problemsolving skills', 'processes', 'project management', 'purchasing', 'quality', 'maintain records', 'reengineering', 'repairs', 'reporting', 'safety', 'sap', 'six sigma', 'software engineering', 'software training', 'sql server', 'supervision', 'supply chain', 'supply chain management', 'tango', 'user support', 'visual studio', 'water treatment', 'web design 1', 'web design 2', 'websites'] ['mcford university', 'mcford university', 'university phoenix college'] ['b.s', 'm.s', 'b.s.i.t'] ['2005', '2010', '2012'] ['3.6', '3.7', '3.7'] [, , ] ['mechanical engineering', 'electrical engineering', 'software engineering'] ['company name', 'company name', 'company name'] ['july 2013', 'september 2012', 'november 1981'] ['january 2016', 'july 2013', 'october 2011'] [['engineering processes', 'software utilization', 'technical resource', 'supply chain', 'six sigma', 'lean manufacturing', 'reliability engineering', 'plant operations', 'cost savings', 'preventive maintenance', 'supplier management'], ['client management', 'purchasing', 'inventory control', 'human resource management', 'it', 'productivity', 'facilities management', 'safety'], ['interpersonal skills', 'team orientation', 'union nonunion work environment', 'analytical skills', 'technical skills', 'problemsolving skills', 'leadership', 'lean work environment']] ['corporate process/systems engineering manager', 'sdi site operation manager', 'operations group manager'] ['volunteering'] ['red cross'] ['volunteer']",
         "3",
         "executive/ senior executive trade marketing, hygiene product master business administration (mba) trade marketing executive brand visibility, sale target field marketing, campaigns, product distribution brand head excel, kpis tracking least 3 year  brand promotion campaign management field supervision merchandising promotional activity trade marketing"
        ],
        [
         "33",
         "0.65",
         "31",
         "['data analytics', 'natural language processing', 'production engineering', 'production analytics', 'tableau', 'machine learning', 'python', 'nltk'] ['smv institute technology'] ['b.tech'] ['2019'] [''] [''] ['electrical electronics'] ['mahindra ltd'] ['2019'] ['till date'] [['data analytics', 'production engineering', 'machine learning']] ['assistant analyst'] ['course'] ['google'] ['beginner']",
         "5",
         "senior io engineer bachelor science (bsc) computer science io lifecycle requirement analysis native framework io development api integration technical communication ui design performance optimization feature collaboration bug fixing code translation highperformance development task management crossteam collaboration code quality least 4 year  io io app developer io application development io development mobile apps developer (ios) native io swift (ios) swift ui"
        ],
        [
         "34",
         "0.85",
         "32",
         "['python', 'java', 'julia', 'r', 'matlab', 'unix shell scripting (bash)', 'linux', 'mac osx', 'windows', 'latex', 'weka'] ['university toronto', 'university toronto', 'university pittsburgh'] ['phd', 'm.s.', 'b.s.'] ['2017', '2013', '2010'] ['3.83', '3.93', '3.73'] ['gpa', 'gpa', 'gpa'] ['computer science', 'computer science', 'computer science mathematics'] ['microsoft research', 'university toronto, department computer science', 'university pittsburgh department computer science', 'university pittsburgh department computer science', 'information science institute, university southern california'] ['may 2016', 'august 2011', 'april 2008', 'september 2010', 'june 2010'] ['august 2016', 'present', 'may 2011', 'december 2010', 'august 2010'] [, , , , ] ['research intern', 'research assistant', 'research assistant', 'directed study', 'research assistant, dreu program']",
         "13",
         "executive/ sr. executive bachelor science (bsc) computer science & engineering hardware & software installation system monitoring support networking expertise mail server administration security management troubleshooting & repair operation support 3 5 year age 40 year"
        ],
        [
         "35",
         "0.75",
         "33",
         "assistant software engineer working cloudbased solutions. working couple machine learning application evaluation deployment got really engrossed domain would like work towards improving myself. ['machine learning engineer', 'c++', 'technical documentation', 'natural language processing', 'sql', 'tableau', 'python', 'aws', 'azure', 'sap', 'oracledb', 'heroku'] ['kle college engineering, belagavi'] ['b.tech'] ['2018'] [''] [''] ['telecommunication'] ['voyagenius labs'] ['dec 2018'] ['ongoing'] [['machine learning', 'geocoding']] ['software developer (ml)']",
         "11",
         "system administrator (operation & maintenance server, storage & service desk system) bachelor/honors hardware & network installation troubleshooting & diagnostics user training & capacity building hardware replacement fault repair & system setup software license & account management backup management system update & maintenance server & storage management documentation & technical specification data protection & disaster recovery storage & database planning power & disk backup incident management & escalation service restoration user communication & verification incident classification & resolution major incident escalation problem & error management task assignment & execution 4 5 year  cisco linux operation & maintenance server"
        ],
        [
         "36",
         "0.816666667",
         "34",
         "post graduate analyst experienced business management statistical analysis. good grasp finding best solution business applying them. ['data analysis', 'business analysis', 'statistical analysis', 'regression analysis', 'natural language processing', 'machine learning', 'numerical analysis'] ['iisc', 'iiit bangalore'] ['bsc', 'msc'] ['2018', '2020'] ['', ''] ['', ''] ['statistics', 'data analysis statistical computation'] ['bvb'] ['jan 2020'] ['oct 2020'] [['nlp', 'ml', 'amazon comprehend medical api']] ['statistical analyst']      ['tableau'] [['natural learning processing']]",
         "6",
         "ai engineer bachelor master degree computer science, engineering, related field. machine learning design data analysis model training ai integration innovation crossfunctional collaboration model deployment documentation analytical skill communication team collaboration   python r java tensorflow pytorch scikitlearn."
        ],
        [
         "37",
         "0.623333333",
         "35",
         "data science enthusiast focused solving complex problem using machine learning techniques. try simplify problem attack head on. always working striving better solution finder. ['data scientist', 'machine learning', 'python', 'big data', 'sql', 'pyspark', 'scala', 'hive', 'scikit learn', 'pandas', 'matplotlib', 'natural language processing', 'transformers', 'bert'] ['lpu, chandigarh'] ['b.tech'] ['2019'] [''] [''] ['ece'] ['neuratech'] ['mar 2019'] ['till date'] [['bert']] ['developer'] ['specialization'] ['deep learning'] []",
         "16",
         "executive vat bba accounting finance mushak form maintenance vat software & m office maintenance vat ledger management vat challan coordination liaison vat office vat documentation assigned task 1 3 year  vat tax"
        ],
        [
         "38",
         "0.716666667",
         "36",
         "['cpr & first aid certified', 'proficient microsoft word', 'basic knowledge microsoft powerpoint excel'] ['southeastern louisiana university'] ['bachelor science'] ['2025'] ['3.1'] ['gpa'] ['biological sciences'] ['slu food services', 'selfemployed'] ['august 2020', 'august 2019'] ['march 2021', 'june 2020'] [['communication', 'safety', 'management'], ['safety', 'organizational', 'educational support']] ['dining room attendant', 'babysitter'] ['student athlete', 'volleyball representative', 'basketball camp coach/coordinator'] ['volleyball team, southeastern louisiana university', 'studentathlete advisory committee, southeastern louisiana university', 'parks recreation, hammond, la'] ['your role/position', , ]   [] [['cpr & first aid']]",
         "21",
         "data engineer bachelor science (bsc) data platform design data pipeline development etl process sql query optimization data integration & transformation data modeling stakeholder collaboration data quality monitoring continuous learning 5 8 year  azure big data data analytics etl tool power bi sql"
        ],
        [
         "39",
         "0.65",
         "37",
         "['accounts receivable', 'aia', 'bank reconciliation', 'billing', 'billings', 'budgets', 'daily cash receipts', 'cash flow', 'consultant', 'contracts', 'controller', 'clients', 'financial', 'financial reports', 'financial statements', 'forms', 'general ledger', 'general ledger accounts', 'government', 'insurance', 'meetings', 'excel', 'microsoft office applications', 'office', 'powerpoint', 'pivot tables', 'presentations', 'prime', 'progress', 'proposals', 'express', 'reporting', 'spreadsheet', 'tax', 'timberline'] ['american intercontinental university', 'florida international university'] ['m.b.a', 'b.a'] ['2005', '1997'] ['', ''] [, ] ['business administrator', 'accounting'] ['company name', 'company name', 'company name', 'company name'] ['jul 2009', 'jan 2007', 'jan 2000', 'jan 1998'] ['current', 'jan 2009', 'jan 2007', 'jan 2000'] [['general ledger accounting', 'compliance testing knowledge', 'budget forecasting expertise', 'account reconciliation'], ['general ledger accounting', 'compliance testing knowledge', 'budget forecasting expertise', 'account reconciliation'], ['general ledger accounting', 'compliance testing knowledge', 'budget forecasting expertise', 'account reconciliation'], ['general ledger accounting', 'compliance testing knowledge', 'budget forecasting expertise', 'account reconciliation']] ['project accountant', 'project administrator engineering', 'project administrator', 'senior staff accountant']",
         "6",
         "ai engineer bachelor master degree computer science, engineering, related field. machine learning design data analysis model training ai integration innovation crossfunctional collaboration model deployment documentation analytical skill communication team collaboration   python r java tensorflow pytorch scikitlearn."
        ],
        [
         "40",
         "0.783333333",
         "38",
         "['administrative support', 'ap', 'critical thinking', 'doors', 'engineer', 'senior management', 'forms', 'functional', 'leadership', 'machinery', 'navy', 'oil', 'organizational', 'pearl', 'personnel', 'personnel management', 'pick', 'problem solving', 'progress', 'project management', 'proposals', 'quality assurance', 'repairs', 'reporting', 'requirement', 'switches', 'time management', 'troubles', 'technical review', 'blueprint understanding', 'project support', 'document control', 'engineering operational functions', 'sharepoint', 'manufacturing system integration', 'team management'] ['state ohio', 'navy', 'navy', 'navy', 'navy', 'navy', 'navy', 'navy', 'navy', 'navy', 'navy'] ['ged', 'a6510118, engineering common core', 'a6510120, engineering mechanical', 'a6520298, gas turbine mechanical/electrical school', 'a6510119, engineering electrical', 'a6520240, shipbd gage cal', 'a4950018, shipboard firefighting', 'a6520188, waste heat boilers', 'a0120077, class facilitator instructional delivery continuum', 'g6510613, machinery control system', 'j5000029, marine maintenance ship repair 3m system coordinator/inspector'] ['09/2000', '02/2002', '03/2002', '05/2002', '08/2002', '08/2003', '09/2009', '02/2010', '01/2011', '02/2015', '02/2019'] [, , , , , , , , , , ] [, , , , , , , , , , ] ['', 'engineering', 'basic propulsion equipment', 'gas turbine mechanical', 'electrical', 'shipbd gage cal', 'shipboard firefighting', 'waste heat boilers', 'class facilitator instructional', 'machinery control system', 'marine maintenance ship repair'] ['company name', 'company name', 'company name'] ['01/2019', '06/2014', '10/2007'] ['', '12/2018', '11/2010'] [['technical expertise', 'problem solving', 'management', 'equipment repairs', 'maintenance', 'leadership', 'time management', 'engineering'], ['project scheduling', 'electrical installations', 'leadership', 'compliance', 'training', 'mentoring'], ['support', 'safety regulations', 'permit acquisition', 'scheduling', 'training', 'mentoring']] ['engineering assistant', 'electrical superintendent', 'engineering assistant']",
         "18",
         "management trainee mechanical fresh graduate bachelor’s degree mechanical engineering related field. management trainee mechanical system maintenance & troubleshooting performance analysis project support process improvement training & development administrative support  age least 22 year computer skill good communication skill mechanical engineering quick learner hard working"
        ],
        [
         "41",
         "0.716666667",
         "39",
         "machine learning engineer worked multiple project knowledge big data handling business analytics. someone always learning, would love use knowledge provide best solutions. ['neural networks', 'python', 'postgresql', 'django', 'microsoft azure', 'flask', 'hive', 'kafka', 'business analysis', 'machine learning', 'deep learning'] ['ssgm, maharashtra', 'international institute information technology (iiit), bangalore'] ['b.tech', 'msc'] ['2017', '2019'] [, ] [, ] ['electronics/telecommunication', 'data science'] ['tata consultancy services'] ['dec 2019'] [''] [['nlp', 'statistical approach', 'ml modeling', 'data extraction', 'feature generation', 'orchestration', 'deployments']] ['machine learning engineer']",
         "13",
         "executive/ sr. executive bachelor science (bsc) computer science & engineering hardware & software installation system monitoring support networking expertise mail server administration security management troubleshooting & repair operation support 3 5 year age 40 year"
        ],
        [
         "42",
         "0.55",
         "40",
         "design, develop manage product field consumer electronics devices, networking protocols, internet application connected devices. vision create personalized experience based machine learning. ['lead development', 'build teams', 'mentor', 'interface customer vendors', 'architect end end', 'develop product consumer electronics', 'digital tv', 'industrial automation', 'control systems', 'c', 'c++', 'java', 'jvm', 'embedded linux', 'lxc', 'device drivers', 'socs', 'rtos os9', 'vxworks', 'dvb', 'mpeg', 'h.264', 'hls', 'mp4', 'json', 'rest', 'soap', 'xml', 'snmp', 'tr069', 'microcontrollers', 'hardware', 'matlab', 'octave', 'mathematical modeling', 'integrating content protection systems', 'agile methodologies', 'scrum', 'sdlc', 'project planning management', 'leadership'] ['indian institute technology', 'devi ahilya university', 'coursera stanford'] ['m.tech', 'b.e', 'course'] ['1988', '87', '2016'] ['', '', ''] ['', '', ''] ['control systems', 'electrical engineering', 'machine learning'] ['company name', 'company name', 'company name'] ['november 2010', 'january 2004', 'april 2000'] ['may 2016', 'november 2010', 'january 2004'] [['platform software development', 'middleware solution', 'json apis'], ['consumer electronics', 'bdj stack', 'ocap middleware', 'embedded systems'], ['interactive tv', 'settop boxes', 'java based tvguide', 'ipgateway']] ['engineering manager', 'engineering manager, architect', 'senior software engineer']",
         "22",
         "head internal control & compliance (icc) sevp/dmd masters, master business administration (mba), master business management (mbm) 15+ year banking experience audit/inspection/icc leadership internal audit & compliance riskbased operational review systembased audit expertise knowledge bangladeshi law least 15 year age 52 year audit inspection banking internal audit"
        ],
        [
         "43",
         "0.85",
         "41",
         "software designer internship clientdriven corporation leading field wireless communication, outstanding success team projects, involving design implementation software, well proven ability deliver high quality project ontime contribute implementation, testing support innovative wireless products. ['objectoriented programming', 'manual testing', 'technical report writing', 'windows xp/vista', 'unix', 'linux', 'administration window 2000 server', 'mips assembler', 'unix shell scripts', 'c', 'java', 'jvs', 'vbs', 'pl/sql', 'asp', 'digital logic', 'verilog hardware language', 'installation configuration peripherals', 'troubleshooting hardware', 'embedded systems', 'robotics', 'ms office suite', 'ms visio', 'ms project', 'sql navigator', 'remedy', 'eclipse'] ['york university, toronto'] ['honours bachelor science'] ['expected spring 2014'] [] [] ['computer science'] ['future shop', 'york university'] ['2011', '2012'] ['present', '2013'] [['customer service'], ['advising', 'presentation', 'critical reading']] ['customer service representative', 'academic resource advisor']",
         "23",
         "full stack developer (python,react js) bachelor/honors full stack development frontend: reactjs, nextjs backend: python, django api design serverside logic drf (django rest framework) database management (postgresql, mysql) version control (git) aws (ecr, rds, ecs, alb, ec2, etc.) linux, docker, ci/cd, gitlab terraform, shell scripting 3 7 year"
        ],
        [
         "44",
         "0.85",
         "42",
         "['c', 'r', 'catia', 'autocad', 'ansys', 'microsoft office', 'product project management', 'gd&t', 'minitab', 'kanban', 'kaizen', 'fmea', 'development', 'toyota production systems', 'apqp', 'ppap', '8d', '5 why', \"kpi's\", 'reliability sae standards', 'vehicle ergonomics', 'dvp&r', 'qcc', 'cnc engineering', 'programming', 'anatomy', 'benchmarking', 'lean manufacturing', 'manufacturing process', 'cost analysis', 'packaging', 'process engineering', 'product development', 'surveys', 'validation', 'welding'] ['university michigan dearborn', 'visvesvaraya technological university'] ['master science', 'bachelor engineering'] ['06/2013', ] [, ] [, ] ['manufacturing system engineering', 'mechanical engineering'] ['company name', 'company name'] ['07/2017', '06/2013'] ['08/2017', '06/2016'] [[\"delphi's spqvc\", 'apqp', 'pfmea', 'lean manufacturing'], ['apqp', 'dvp&r', 'ppap', 'dfmea', 'toyota standards', 'sqd', 'quality tools']] ['engineering assistant', 'engineer']",
         "7",
         "mechanical engineer bachelor science (bsc) mechanical engineering, diploma mechanical machinery maintenance troubleshooting report preparation log maintenance 2 5 year age 25 40 year maintenance troubleshooting mechanical"
        ],
        [
         "45",
         "0.783333333",
         "43",
         "['c/python', 'r', 'stk', 'catia', 'ansys', 'latex', 'solidworks', 'microsoft office', 'microsoft project'] ['nortmead high school', 'university new south wale (unsw)'] ['high school diploma', 'bachelor science, bachelor engineering (honours) (aerospace)'] ['2012', '2017'] [, '79.42'] [, 'wam'] ['mathematics, physics, chemistry, engineering', 'aerospace'] ['company name', 'company name', 'company name'] ['feb 2017', 'feb 2016', 'aug 2015'] ['apr 2017', 'may 2016', 'jul 2017'] [['ansys', 'solidworks', 'cad', 'customer service', 'sales', 'time management'], ['teaching', 'mathematics', 'science', 'english'], ['solidworks', 'ansys', 'cad', 'leadership', 'jira']] ['engineering intern', 'tutor', 'mechanical design engineer'] ['membership', 'volunteering'] ['bluesat (basic low earth orbit unsw experimental satellite) group', 'karabi community & development services'] ['engineer', 'social support youth service volunteer']   ['scrum fundamentals', 'data science fundamentals', 'oracle'] [, , ['sql']]",
         "21",
         "data engineer bachelor science (bsc) data platform design data pipeline development etl process sql query optimization data integration & transformation data modeling stakeholder collaboration data quality monitoring continuous learning 5 8 year  azure big data data analytics etl tool power bi sql"
        ],
        [
         "46",
         "0.7166666666666667",
         "44",
         "['advertising', 'competitive', 'content', 'contracts', 'customer satisfaction', 'customer service', 'customer support', 'fashion', 'fast', 'functional', 'marketing strategies', 'marketing', 'market', 'marketing material', 'networking', 'payroll', 'progress', 'promotion', 'quality', 'selling', 'sales', 'script', 'strategic', 'telephone', 'phone', 'training manuals'] ['mesa high school'] ['high school diploma'] ['2012'] ['4.0'] ['gpa'] [''] ['company name', 'company name', 'company name', 'company name'] ['08/2015', '03/2015', '06/2014', '04/2014'] [, '08/2015', '03/2015', '06/2014'] [['networking', 'content marketing', 'sales', 'customer service', 'marketing'], ['promotion', 'advertising', 'marketing', 'sales', 'crossfunctional work'], ['customer support', 'training manuals', 'communication', 'product knowledge', 'service quality'], ['customer service', 'communication', 'problem solving']] ['business development manager', 'event manager', 'customer service call center manager', 'customer service representative / call center']",
         "21",
         "data engineer bachelor science (bsc) data platform design data pipeline development etl process sql query optimization data integration & transformation data modeling stakeholder collaboration data quality monitoring continuous learning 5 8 year  azure big data data analytics etl tool power bi sql"
        ],
        [
         "47",
         "0.65",
         "25",
         "dedicated wellrounded software engineer passion math, computer science, elite education. bringing 12+ year teaching expertise help amazon's career fulfillment student feel joy pride comprehensive javascript computer science program past 150+ high school students. eager teach basics, get student tool need, foster passion reach goals. ['html', 'css', 'javascript (angular)', 'python', 'git', 'algorithm design', 'technical writing', 'data analysis', 'interpersonal communication', 'patience'] ['princeton international school mathematics science', 'new york university'] ['master science', 'bachelor science'] ['2015', '2012'] ['', ''] [, ] ['computer science', 'computer science'] ['princeton international school mathematics science', 'hka enterprises', 'academy mine'] ['2017', '2014', '2012'] ['current', '2017', '2014'] [['javascript', 'teaching', 'program development'], ['technical support', 'database design', 'software testing'], ['agile/scrum', 'code writing', 'cicd']] ['computer science teacher', 'software engineer', 'junior software engineer']      ['aws', 'csm'] [, ]",
         "24",
         "civil engineer b.sc civil engineering reputed university. design review coordination proposal preparation feasibility analysis software utilization supervision technical support submission review progress reporting compliance site visit least 5 year age least 30 year autocad etabs microsoft office suite m project"
        ],
        [
         "48",
         "0.5333333333333333",
         "45",
         "['generally accepted accounting principles', 'generally accepted auditing standards', 'interviewing techniques', 'research & data gathering', 'financial analysis', 'budget preparation', 'accounts payable/accounts receivable', 'implementing effective internal controls', 'omb circular a133', 'ms office', 'quickbooks', 'accounting', 'administrative', 'agency', 'audit report', 'backup', 'bank reconciliations', 'basic', 'billing', 'budgets', 'cash register', 'cashier', 'catalog', 'clerical', 'conferences', 'contracts', 'client', 'data analysis', 'database', 'decisionmaking', 'direction', 'documentation', 'financial', 'financial statements', 'funds', 'legal', 'money', 'policies', 'processes', 'video'] ['fox school business, temple university'] ['bachelor business administration'] [''] [''] [''] ['accounting'] ['company name', 'company name', 'company name', 'company name'] ['09/2015', '09/2014', '04/2005', '01/2003'] ['03/2016', '09/2015', '09/2014', '04/2005'] [['financial analysis', 'internal controls', 'data analysis'], ['financial database management', 'invoice management', 'budget review'], ['audit', 'compliance review', 'internal control evaluation'], ['account analysis', 'invoice preparation', 'statistical analysis']] ['accountant', 'administrative specialist ii', 'auditor ii', 'accountant']",
         "2",
         "machine learning (ml) engineer m.sc computer science & engineering relevant discipline reputed university machine learning leadership crossfunctional collaboration strategy development ml/nlp infrastructure prototype transformation ml system design algorithm research application development dataset selection ml testing statistical analysis r&d ml/nlp text representation data pipeline design statistical data analysis model training team collaboration research reporting algorithm analysis least 5 year(s)"
        ],
        [
         "49",
         "0.65",
         "46",
         "fresher data analyst starting erp mis. fresher looking role specific data science machine learning learn subject create amazing application solve real life problems. ['mis reporting', 'advanced excel', 'dashboards', 'data analysis', 'sql', 'mysql', 'power bi', 'machine learning', 'linear regression', 'statistical analysis', 'clustering', 'nosql', 'mongodb', 'python', 'eda', 'business intelligence', 'logistic regression'] ['shivaji college', 'indira gandhi national open university'] ['b.a (economics)', 'm.a (economics), correspondence/distance learning'] ['2017', '2019'] ['', ''] ['', ''] ['economics', 'economics'] ['justdial'] ['apr 2019'] ['dec 2020'] [['report creation', 'mis report/dashboard preparation', 'erp reporting', 'data analysis']] ['mis analyst'] [''] [''] ['data science python']",
         "25",
         "data science engineer bachelor science (bsc) computer science & engineering application development objectoriented design collaboration problemsolving software lifecycle innovation software testing system analysis performance monitoring plugin development documentation integration support least 2 year age 25 32 year business analysis effective communication skill java rest api design soft skill software development"
        ]
       ],
       "shape": {
        "columns": 5,
        "rows": 9544
       }
      },
      "text/html": [
       "<div>\n",
       "<style scoped>\n",
       "    .dataframe tbody tr th:only-of-type {\n",
       "        vertical-align: middle;\n",
       "    }\n",
       "\n",
       "    .dataframe tbody tr th {\n",
       "        vertical-align: top;\n",
       "    }\n",
       "\n",
       "    .dataframe thead th {\n",
       "        text-align: right;\n",
       "    }\n",
       "</style>\n",
       "<table border=\"1\" class=\"dataframe\">\n",
       "  <thead>\n",
       "    <tr style=\"text-align: right;\">\n",
       "      <th></th>\n",
       "      <th>matched_score</th>\n",
       "      <th>resume_id</th>\n",
       "      <th>resume_text</th>\n",
       "      <th>job_id</th>\n",
       "      <th>jobs_text</th>\n",
       "    </tr>\n",
       "  </thead>\n",
       "  <tbody>\n",
       "    <tr>\n",
       "      <th>0</th>\n",
       "      <td>0.850000</td>\n",
       "      <td>1</td>\n",
       "      <td>big data analytics working database warehouse ...</td>\n",
       "      <td>1</td>\n",
       "      <td>senior software engineer b.sc computer science...</td>\n",
       "    </tr>\n",
       "    <tr>\n",
       "      <th>1</th>\n",
       "      <td>0.750000</td>\n",
       "      <td>2</td>\n",
       "      <td>fresher looking join data analyst junior data ...</td>\n",
       "      <td>2</td>\n",
       "      <td>machine learning (ml) engineer m.sc computer s...</td>\n",
       "    </tr>\n",
       "    <tr>\n",
       "      <th>2</th>\n",
       "      <td>0.416667</td>\n",
       "      <td>3</td>\n",
       "      <td>['software development', 'machine learning', '...</td>\n",
       "      <td>3</td>\n",
       "      <td>executive/ senior executive trade marketing, h...</td>\n",
       "    </tr>\n",
       "    <tr>\n",
       "      <th>3</th>\n",
       "      <td>0.760000</td>\n",
       "      <td>4</td>\n",
       "      <td>obtain position fastpaced business office envi...</td>\n",
       "      <td>4</td>\n",
       "      <td>business development executive bachelor/honors...</td>\n",
       "    </tr>\n",
       "    <tr>\n",
       "      <th>4</th>\n",
       "      <td>0.650000</td>\n",
       "      <td>5</td>\n",
       "      <td>professional accountant outstanding work ethic...</td>\n",
       "      <td>5</td>\n",
       "      <td>senior io engineer bachelor science (bsc) comp...</td>\n",
       "    </tr>\n",
       "    <tr>\n",
       "      <th>...</th>\n",
       "      <td>...</td>\n",
       "      <td>...</td>\n",
       "      <td>...</td>\n",
       "      <td>...</td>\n",
       "      <td>...</td>\n",
       "    </tr>\n",
       "    <tr>\n",
       "      <th>9539</th>\n",
       "      <td>0.683333</td>\n",
       "      <td>217</td>\n",
       "      <td>['mathematical modelling', 'machine learning',...</td>\n",
       "      <td>21</td>\n",
       "      <td>data engineer bachelor science (bsc) data plat...</td>\n",
       "    </tr>\n",
       "    <tr>\n",
       "      <th>9540</th>\n",
       "      <td>0.650000</td>\n",
       "      <td>24</td>\n",
       "      <td>expertise eda modeler. like learn data contain...</td>\n",
       "      <td>13</td>\n",
       "      <td>executive/ sr. executive bachelor science (bsc...</td>\n",
       "    </tr>\n",
       "    <tr>\n",
       "      <th>9541</th>\n",
       "      <td>0.650000</td>\n",
       "      <td>235</td>\n",
       "      <td>looking role related application development m...</td>\n",
       "      <td>16</td>\n",
       "      <td>executive vat bba accounting finance mushak fo...</td>\n",
       "    </tr>\n",
       "    <tr>\n",
       "      <th>9542</th>\n",
       "      <td>0.650000</td>\n",
       "      <td>267</td>\n",
       "      <td>['machine learning', 'natural language process...</td>\n",
       "      <td>9</td>\n",
       "      <td>asst. manager/ manger (administrative) bachelo...</td>\n",
       "    </tr>\n",
       "    <tr>\n",
       "      <th>9543</th>\n",
       "      <td>0.650000</td>\n",
       "      <td>55</td>\n",
       "      <td>['assisted living', 'interpersonal communicati...</td>\n",
       "      <td>24</td>\n",
       "      <td>civil engineer b.sc civil engineering reputed ...</td>\n",
       "    </tr>\n",
       "  </tbody>\n",
       "</table>\n",
       "<p>9544 rows × 5 columns</p>\n",
       "</div>"
      ],
      "text/plain": [
       "      matched_score  resume_id  \\\n",
       "0          0.850000          1   \n",
       "1          0.750000          2   \n",
       "2          0.416667          3   \n",
       "3          0.760000          4   \n",
       "4          0.650000          5   \n",
       "...             ...        ...   \n",
       "9539       0.683333        217   \n",
       "9540       0.650000         24   \n",
       "9541       0.650000        235   \n",
       "9542       0.650000        267   \n",
       "9543       0.650000         55   \n",
       "\n",
       "                                            resume_text  job_id  \\\n",
       "0     big data analytics working database warehouse ...       1   \n",
       "1     fresher looking join data analyst junior data ...       2   \n",
       "2     ['software development', 'machine learning', '...       3   \n",
       "3     obtain position fastpaced business office envi...       4   \n",
       "4     professional accountant outstanding work ethic...       5   \n",
       "...                                                 ...     ...   \n",
       "9539  ['mathematical modelling', 'machine learning',...      21   \n",
       "9540  expertise eda modeler. like learn data contain...      13   \n",
       "9541  looking role related application development m...      16   \n",
       "9542  ['machine learning', 'natural language process...       9   \n",
       "9543  ['assisted living', 'interpersonal communicati...      24   \n",
       "\n",
       "                                              jobs_text  \n",
       "0     senior software engineer b.sc computer science...  \n",
       "1     machine learning (ml) engineer m.sc computer s...  \n",
       "2     executive/ senior executive trade marketing, h...  \n",
       "3     business development executive bachelor/honors...  \n",
       "4     senior io engineer bachelor science (bsc) comp...  \n",
       "...                                                 ...  \n",
       "9539  data engineer bachelor science (bsc) data plat...  \n",
       "9540  executive/ sr. executive bachelor science (bsc...  \n",
       "9541  executive vat bba accounting finance mushak fo...  \n",
       "9542  asst. manager/ manger (administrative) bachelo...  \n",
       "9543  civil engineer b.sc civil engineering reputed ...  \n",
       "\n",
       "[9544 rows x 5 columns]"
      ]
     },
     "execution_count": 5,
     "metadata": {},
     "output_type": "execute_result"
    }
   ],
   "source": [
    "full_data"
   ]
  },
  {
   "cell_type": "code",
   "execution_count": 6,
   "id": "28209df3",
   "metadata": {},
   "outputs": [],
   "source": [
    "resumes = full_data[[\"resume_id\", \"resume_text\"]]\n",
    "jobs = full_data[[\"job_id\", \"jobs_text\"]]"
   ]
  },
  {
   "cell_type": "code",
   "execution_count": 7,
   "id": "9a41b815",
   "metadata": {},
   "outputs": [],
   "source": [
    "resume_strings = resumes[\"resume_text\"]\n",
    "job_strings = jobs[\"jobs_text\"]"
   ]
  },
  {
   "cell_type": "code",
   "execution_count": 8,
   "id": "1ce41f09",
   "metadata": {},
   "outputs": [],
   "source": [
    "resume_strings = resume_strings.drop_duplicates()\n",
    "job_strings = job_strings.drop_duplicates()"
   ]
  },
  {
   "cell_type": "markdown",
   "id": "0bfc4b0a",
   "metadata": {},
   "source": [
    "### Using tfidf to vectorize resume and job strings:"
   ]
  },
  {
   "cell_type": "code",
   "execution_count": 9,
   "id": "0d18c219",
   "metadata": {},
   "outputs": [],
   "source": [
    "from sklearn.feature_extraction.text import TfidfVectorizer"
   ]
  },
  {
   "cell_type": "code",
   "execution_count": 10,
   "id": "9b624a8f",
   "metadata": {},
   "outputs": [],
   "source": [
    "tfidf = TfidfVectorizer()"
   ]
  },
  {
   "cell_type": "code",
   "execution_count": 11,
   "id": "0da5246a",
   "metadata": {},
   "outputs": [
    {
     "name": "stdout",
     "output_type": "stream",
     "text": [
      "(344, 4952)\n",
      "(28, 4952)\n"
     ]
    }
   ],
   "source": [
    "resume_tfidf = tfidf.fit_transform(resume_strings.values)\n",
    "job_tfidf = tfidf.transform(job_strings.values)\n",
    "\n",
    "print(resume_tfidf.shape)\n",
    "print(job_tfidf.shape)"
   ]
  },
  {
   "cell_type": "markdown",
   "id": "2f3eaf8c",
   "metadata": {},
   "source": [
    "We have total of 4961 terms in the dataset."
   ]
  },
  {
   "cell_type": "markdown",
   "id": "24746429",
   "metadata": {},
   "source": [
    "### Using Cosine Similarity to recommend best jobs for a resume:"
   ]
  },
  {
   "cell_type": "code",
   "execution_count": 12,
   "id": "0d8fb499",
   "metadata": {},
   "outputs": [],
   "source": [
    "from sklearn.metrics.pairwise import cosine_similarity\n",
    "sim_matrix = cosine_similarity(resume_tfidf, job_tfidf)"
   ]
  },
  {
   "cell_type": "code",
   "execution_count": 13,
   "id": "8a8dc50c",
   "metadata": {},
   "outputs": [
    {
     "data": {
      "text/plain": [
       "array([[0.00860245, 0.06484749, 0.        , ..., 0.01361648, 0.0356808 ,\n",
       "        0.00658609],\n",
       "       [0.07416246, 0.12443126, 0.01252075, ..., 0.03407852, 0.02458509,\n",
       "        0.00327719],\n",
       "       [0.06435247, 0.06346508, 0.        , ..., 0.        , 0.        ,\n",
       "        0.00740992],\n",
       "       ...,\n",
       "       [0.02351784, 0.01843194, 0.04668449, ..., 0.20131289, 0.06628729,\n",
       "        0.05270651],\n",
       "       [0.0951178 , 0.13746047, 0.        , ..., 0.01088929, 0.        ,\n",
       "        0.00508909],\n",
       "       [0.0265125 , 0.04179   , 0.00427706, ..., 0.00531457, 0.01679644,\n",
       "        0.00447793]])"
      ]
     },
     "execution_count": 13,
     "metadata": {},
     "output_type": "execute_result"
    }
   ],
   "source": [
    "sim_matrix"
   ]
  },
  {
   "cell_type": "code",
   "execution_count": 14,
   "id": "e4ec9c15",
   "metadata": {},
   "outputs": [],
   "source": [
    "top_n = 3\n",
    "recommendations = []\n",
    "\n",
    "for i in range(5):\n",
    "    top_jobs = sim_matrix[i].argsort()[::-1][:top_n]\n",
    "    recommendations.append({\n",
    "        \"resume_id\": i+1,\n",
    "        \"top_recommendations\": [j+1 for j in top_jobs]\n",
    "    })"
   ]
  },
  {
   "cell_type": "code",
   "execution_count": 15,
   "id": "c0638e33",
   "metadata": {},
   "outputs": [
    {
     "name": "stdout",
     "output_type": "stream",
     "text": [
      "Sample Resumes and Their Top-3 Job Recommendations:\n",
      "   resume_id top_recommendations\n",
      "0          1        [21, 20, 10]\n",
      "1          2         [21, 2, 25]\n",
      "2          3         [9, 25, 21]\n",
      "3          4         [9, 12, 25]\n",
      "4          5        [16, 22, 17]\n"
     ]
    }
   ],
   "source": [
    "print(f\"Sample Resumes and Their Top-3 Job Recommendations:\\n{pd.DataFrame(recommendations)}\")"
   ]
  },
  {
   "cell_type": "code",
   "execution_count": 16,
   "id": "6de959cb",
   "metadata": {},
   "outputs": [
    {
     "data": {
      "text/plain": [
       "344"
      ]
     },
     "execution_count": 16,
     "metadata": {},
     "output_type": "execute_result"
    }
   ],
   "source": [
    "resume_strings.shape[0]"
   ]
  },
  {
   "cell_type": "markdown",
   "id": "bdf8a026",
   "metadata": {},
   "source": [
    "## Custom evaluation metrics"
   ]
  },
  {
   "cell_type": "markdown",
   "id": "8eeafb62",
   "metadata": {},
   "source": [
    "We have create custom evaluation metrics to identify the percentage of recommendations matching the top n recommendations of the original dataset based on the matched score."
   ]
  },
  {
   "cell_type": "code",
   "execution_count": 17,
   "id": "d305da3f",
   "metadata": {},
   "outputs": [],
   "source": [
    "def generate_weights(n):\n",
    "    if n == 1:\n",
    "        return [10.0]\n",
    "    elif n > 1:\n",
    "        # Linearly space values between 10 and 5 (inclusive), then reverse\n",
    "        weights = [round(w, 2) for w in list(reversed([5 + (10 - 5) * (i / (n - 1)) for i in range(n)]))]\n",
    "        return weights\n",
    "    else:\n",
    "        return []"
   ]
  },
  {
   "cell_type": "code",
   "execution_count": 18,
   "id": "f83d237c",
   "metadata": {},
   "outputs": [],
   "source": [
    "def custom_metric(full_data, top_n, sim_matrix):\n",
    "    \"\"\"\n",
    "    full_data: DataFrame with 'resume_id', 'job_id', and 'matched_score' columns\n",
    "    top_n: Number of top jobs to consider\n",
    "    sim_matrix: Similarity matrix between resumes and jobs\n",
    "    \"\"\"\n",
    "    results = []\n",
    "    \n",
    "    # Generate descending weights from 10 to 5\n",
    "    weights = generate_weights(top_n)\n",
    "    weights_sum = sum(weights)\n",
    "    \n",
    "    for i in range(sim_matrix.shape[0]):  # Iterate over resumes\n",
    "        # Top-N predicted job indices for resume i (sorted by similarity)\n",
    "        top_jobs = sim_matrix[i].argsort()[::-1][:top_n]\n",
    "        top_jobs = [int(j+1) for j in top_jobs]\n",
    "        \n",
    "        # Ground truth top-N job_ids for resume i, sorted by matched_score\n",
    "        golden_top_jobs = full_data[full_data[\"resume_id\"] == i + 1] \\\n",
    "                            .sort_values(by=\"matched_score\", ascending=False)[:top_n]['job_id'].tolist()\n",
    "        simple_score = len(set(top_jobs).intersection(set(golden_top_jobs)))/top_n\n",
    "        \n",
    "        \n",
    "        # Calculate weighted score\n",
    "        weighted_score = 0.0\n",
    "        for idx, pred_job in enumerate(top_jobs):\n",
    "            if (pred_job) in golden_top_jobs:  # sim_matrix job indices are 0-based\n",
    "                weighted_score += weights[idx]\n",
    "\n",
    "        \n",
    "        normalized_score = weighted_score / weights_sum  # Normalize the score\n",
    "\n",
    "        results.append({\n",
    "            \"resume_id\": i + 1,\n",
    "            \"predicted\": top_jobs,  # Convert to 1-based index\n",
    "            \"golden\": golden_top_jobs,\n",
    "            \"weighted_score\": round(normalized_score, 4),\n",
    "            \"simple_score\": simple_score,\n",
    "            \"weights\": weights\n",
    "        })\n",
    "        \n",
    "    return results\n"
   ]
  },
  {
   "cell_type": "code",
   "execution_count": 19,
   "id": "82f7f4ed",
   "metadata": {},
   "outputs": [],
   "source": [
    "results = custom_metric(full_data, 10, sim_matrix)"
   ]
  },
  {
   "cell_type": "code",
   "execution_count": 20,
   "id": "73eea132",
   "metadata": {},
   "outputs": [
    {
     "data": {
      "application/vnd.microsoft.datawrangler.viewer.v0+json": {
       "columns": [
        {
         "name": "index",
         "rawType": "int64",
         "type": "integer"
        },
        {
         "name": "resume_id",
         "rawType": "int64",
         "type": "integer"
        },
        {
         "name": "predicted",
         "rawType": "object",
         "type": "unknown"
        },
        {
         "name": "golden",
         "rawType": "object",
         "type": "unknown"
        },
        {
         "name": "weighted_score",
         "rawType": "float64",
         "type": "float"
        },
        {
         "name": "simple_score",
         "rawType": "float64",
         "type": "float"
        },
        {
         "name": "weights",
         "rawType": "object",
         "type": "unknown"
        }
       ],
       "ref": "bd1d38aa-73bf-4313-9cf3-b07cc70e9a2d",
       "rows": [
        [
         "0",
         "1",
         "[21, 20, 10, 2, 6, 25, 15, 27, 12, 11]",
         "[1, 15, 25, 13, 2, 6, 14, 18, 10, 23]",
         "0.5185",
         "0.5",
         "[10.0, 9.44, 8.89, 8.33, 7.78, 7.22, 6.67, 6.11, 5.56, 5.0]"
        ],
        [
         "1",
         "2",
         "[21, 2, 25, 1, 24, 6, 12, 15, 26, 27]",
         "[2, 10, 25, 6, 15, 14, 11, 9, 20, 18]",
         "0.4221",
         "0.4",
         "[10.0, 9.44, 8.89, 8.33, 7.78, 7.22, 6.67, 6.11, 5.56, 5.0]"
        ],
        [
         "2",
         "3",
         "[9, 25, 21, 1, 2, 20, 23, 13, 6, 5]",
         "[23, 2, 14, 1, 6, 15, 25, 20, 5, 11]",
         "0.6667",
         "0.7",
         "[10.0, 9.44, 8.89, 8.33, 7.78, 7.22, 6.67, 6.11, 5.56, 5.0]"
        ],
        [
         "3",
         "4",
         "[9, 12, 25, 24, 21, 6, 18, 8, 22, 19]",
         "[9, 17, 22, 10, 16, 26, 3, 12, 19, 4]",
         "0.4",
         "0.4",
         "[10.0, 9.44, 8.89, 8.33, 7.78, 7.22, 6.67, 6.11, 5.56, 5.0]"
        ],
        [
         "4",
         "5",
         "[16, 22, 17, 24, 9, 12, 25, 19, 6, 8]",
         "[22, 9, 17, 16, 26, 11, 3, 10, 14, 15]",
         "0.4815",
         "0.4",
         "[10.0, 9.44, 8.89, 8.33, 7.78, 7.22, 6.67, 6.11, 5.56, 5.0]"
        ]
       ],
       "shape": {
        "columns": 6,
        "rows": 5
       }
      },
      "text/html": [
       "<div>\n",
       "<style scoped>\n",
       "    .dataframe tbody tr th:only-of-type {\n",
       "        vertical-align: middle;\n",
       "    }\n",
       "\n",
       "    .dataframe tbody tr th {\n",
       "        vertical-align: top;\n",
       "    }\n",
       "\n",
       "    .dataframe thead th {\n",
       "        text-align: right;\n",
       "    }\n",
       "</style>\n",
       "<table border=\"1\" class=\"dataframe\">\n",
       "  <thead>\n",
       "    <tr style=\"text-align: right;\">\n",
       "      <th></th>\n",
       "      <th>resume_id</th>\n",
       "      <th>predicted</th>\n",
       "      <th>golden</th>\n",
       "      <th>weighted_score</th>\n",
       "      <th>simple_score</th>\n",
       "      <th>weights</th>\n",
       "    </tr>\n",
       "  </thead>\n",
       "  <tbody>\n",
       "    <tr>\n",
       "      <th>0</th>\n",
       "      <td>1</td>\n",
       "      <td>[21, 20, 10, 2, 6, 25, 15, 27, 12, 11]</td>\n",
       "      <td>[1, 15, 25, 13, 2, 6, 14, 18, 10, 23]</td>\n",
       "      <td>0.5185</td>\n",
       "      <td>0.5</td>\n",
       "      <td>[10.0, 9.44, 8.89, 8.33, 7.78, 7.22, 6.67, 6.1...</td>\n",
       "    </tr>\n",
       "    <tr>\n",
       "      <th>1</th>\n",
       "      <td>2</td>\n",
       "      <td>[21, 2, 25, 1, 24, 6, 12, 15, 26, 27]</td>\n",
       "      <td>[2, 10, 25, 6, 15, 14, 11, 9, 20, 18]</td>\n",
       "      <td>0.4221</td>\n",
       "      <td>0.4</td>\n",
       "      <td>[10.0, 9.44, 8.89, 8.33, 7.78, 7.22, 6.67, 6.1...</td>\n",
       "    </tr>\n",
       "    <tr>\n",
       "      <th>2</th>\n",
       "      <td>3</td>\n",
       "      <td>[9, 25, 21, 1, 2, 20, 23, 13, 6, 5]</td>\n",
       "      <td>[23, 2, 14, 1, 6, 15, 25, 20, 5, 11]</td>\n",
       "      <td>0.6667</td>\n",
       "      <td>0.7</td>\n",
       "      <td>[10.0, 9.44, 8.89, 8.33, 7.78, 7.22, 6.67, 6.1...</td>\n",
       "    </tr>\n",
       "    <tr>\n",
       "      <th>3</th>\n",
       "      <td>4</td>\n",
       "      <td>[9, 12, 25, 24, 21, 6, 18, 8, 22, 19]</td>\n",
       "      <td>[9, 17, 22, 10, 16, 26, 3, 12, 19, 4]</td>\n",
       "      <td>0.4000</td>\n",
       "      <td>0.4</td>\n",
       "      <td>[10.0, 9.44, 8.89, 8.33, 7.78, 7.22, 6.67, 6.1...</td>\n",
       "    </tr>\n",
       "    <tr>\n",
       "      <th>4</th>\n",
       "      <td>5</td>\n",
       "      <td>[16, 22, 17, 24, 9, 12, 25, 19, 6, 8]</td>\n",
       "      <td>[22, 9, 17, 16, 26, 11, 3, 10, 14, 15]</td>\n",
       "      <td>0.4815</td>\n",
       "      <td>0.4</td>\n",
       "      <td>[10.0, 9.44, 8.89, 8.33, 7.78, 7.22, 6.67, 6.1...</td>\n",
       "    </tr>\n",
       "  </tbody>\n",
       "</table>\n",
       "</div>"
      ],
      "text/plain": [
       "   resume_id                               predicted  \\\n",
       "0          1  [21, 20, 10, 2, 6, 25, 15, 27, 12, 11]   \n",
       "1          2   [21, 2, 25, 1, 24, 6, 12, 15, 26, 27]   \n",
       "2          3     [9, 25, 21, 1, 2, 20, 23, 13, 6, 5]   \n",
       "3          4   [9, 12, 25, 24, 21, 6, 18, 8, 22, 19]   \n",
       "4          5   [16, 22, 17, 24, 9, 12, 25, 19, 6, 8]   \n",
       "\n",
       "                                   golden  weighted_score  simple_score  \\\n",
       "0   [1, 15, 25, 13, 2, 6, 14, 18, 10, 23]          0.5185           0.5   \n",
       "1   [2, 10, 25, 6, 15, 14, 11, 9, 20, 18]          0.4221           0.4   \n",
       "2    [23, 2, 14, 1, 6, 15, 25, 20, 5, 11]          0.6667           0.7   \n",
       "3   [9, 17, 22, 10, 16, 26, 3, 12, 19, 4]          0.4000           0.4   \n",
       "4  [22, 9, 17, 16, 26, 11, 3, 10, 14, 15]          0.4815           0.4   \n",
       "\n",
       "                                             weights  \n",
       "0  [10.0, 9.44, 8.89, 8.33, 7.78, 7.22, 6.67, 6.1...  \n",
       "1  [10.0, 9.44, 8.89, 8.33, 7.78, 7.22, 6.67, 6.1...  \n",
       "2  [10.0, 9.44, 8.89, 8.33, 7.78, 7.22, 6.67, 6.1...  \n",
       "3  [10.0, 9.44, 8.89, 8.33, 7.78, 7.22, 6.67, 6.1...  \n",
       "4  [10.0, 9.44, 8.89, 8.33, 7.78, 7.22, 6.67, 6.1...  "
      ]
     },
     "execution_count": 20,
     "metadata": {},
     "output_type": "execute_result"
    }
   ],
   "source": [
    "results = pd.DataFrame(results)\n",
    "results.head()"
   ]
  },
  {
   "cell_type": "code",
   "execution_count": 21,
   "id": "f1d2bf95",
   "metadata": {},
   "outputs": [
    {
     "data": {
      "text/plain": [
       "0.5304706395348837"
      ]
     },
     "execution_count": 21,
     "metadata": {},
     "output_type": "execute_result"
    }
   ],
   "source": [
    "sum(results[\"weighted_score\"])/results.shape[0]"
   ]
  },
  {
   "cell_type": "code",
   "execution_count": 22,
   "id": "e7c565ed",
   "metadata": {},
   "outputs": [
    {
     "data": {
      "text/plain": [
       "0.5113372093023256"
      ]
     },
     "execution_count": 22,
     "metadata": {},
     "output_type": "execute_result"
    }
   ],
   "source": [
    "sum(results[\"simple_score\"])/results.shape[0]"
   ]
  },
  {
   "cell_type": "markdown",
   "id": "0a5b6659",
   "metadata": {},
   "source": [
    "From the content based system, we can see 50% of the top 10 recommendations are matching with the original top 10 job matches for the resume."
   ]
  },
  {
   "cell_type": "code",
   "execution_count": null,
   "id": "31d9de7b",
   "metadata": {},
   "outputs": [],
   "source": []
  }
 ],
 "metadata": {
  "kernelspec": {
   "display_name": "base",
   "language": "python",
   "name": "python3"
  },
  "language_info": {
   "codemirror_mode": {
    "name": "ipython",
    "version": 3
   },
   "file_extension": ".py",
   "mimetype": "text/x-python",
   "name": "python",
   "nbconvert_exporter": "python",
   "pygments_lexer": "ipython3",
   "version": "3.12.7"
  }
 },
 "nbformat": 4,
 "nbformat_minor": 5
}
