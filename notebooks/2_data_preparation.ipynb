{
 "cells": [
  {
   "cell_type": "code",
   "execution_count": 1,
   "id": "007a2084",
   "metadata": {},
   "outputs": [],
   "source": [
    "import pandas as pd\n",
    "import numpy as np"
   ]
  },
  {
   "cell_type": "code",
   "execution_count": 2,
   "id": "a009e784",
   "metadata": {},
   "outputs": [
    {
     "data": {
      "text/html": [
       "<div>\n",
       "<style scoped>\n",
       "    .dataframe tbody tr th:only-of-type {\n",
       "        vertical-align: middle;\n",
       "    }\n",
       "\n",
       "    .dataframe tbody tr th {\n",
       "        vertical-align: top;\n",
       "    }\n",
       "\n",
       "    .dataframe thead th {\n",
       "        text-align: right;\n",
       "    }\n",
       "</style>\n",
       "<table border=\"1\" class=\"dataframe\">\n",
       "  <thead>\n",
       "    <tr style=\"text-align: right;\">\n",
       "      <th></th>\n",
       "      <th>address</th>\n",
       "      <th>career_objective</th>\n",
       "      <th>skills</th>\n",
       "      <th>educational_institution_name</th>\n",
       "      <th>degree_names</th>\n",
       "      <th>passing_years</th>\n",
       "      <th>educational_results</th>\n",
       "      <th>result_types</th>\n",
       "      <th>major_field_of_studies</th>\n",
       "      <th>professional_company_names</th>\n",
       "      <th>...</th>\n",
       "      <th>online_links</th>\n",
       "      <th>issue_dates</th>\n",
       "      <th>expiry_dates</th>\n",
       "      <th>﻿job_position_name</th>\n",
       "      <th>educationaL_requirements</th>\n",
       "      <th>experiencere_requirement</th>\n",
       "      <th>age_requirement</th>\n",
       "      <th>responsibilities.1</th>\n",
       "      <th>skills_required</th>\n",
       "      <th>matched_score</th>\n",
       "    </tr>\n",
       "  </thead>\n",
       "  <tbody>\n",
       "    <tr>\n",
       "      <th>0</th>\n",
       "      <td>NaN</td>\n",
       "      <td>Big data analytics working and database wareho...</td>\n",
       "      <td>['Big Data', 'Hadoop', 'Hive', 'Python', 'Mapr...</td>\n",
       "      <td>['The Amity School of Engineering &amp; Technology...</td>\n",
       "      <td>['B.Tech']</td>\n",
       "      <td>['2019']</td>\n",
       "      <td>['N/A']</td>\n",
       "      <td>[None]</td>\n",
       "      <td>['Electronics']</td>\n",
       "      <td>['Coca-COla']</td>\n",
       "      <td>...</td>\n",
       "      <td>NaN</td>\n",
       "      <td>NaN</td>\n",
       "      <td>NaN</td>\n",
       "      <td>Senior Software Engineer</td>\n",
       "      <td>B.Sc in Computer Science &amp; Engineering from a ...</td>\n",
       "      <td>At least 1 year</td>\n",
       "      <td>NaN</td>\n",
       "      <td>Technical Support\\nTroubleshooting\\nCollaborat...</td>\n",
       "      <td>NaN</td>\n",
       "      <td>0.850000</td>\n",
       "    </tr>\n",
       "    <tr>\n",
       "      <th>1</th>\n",
       "      <td>NaN</td>\n",
       "      <td>Fresher looking to join as a data analyst and ...</td>\n",
       "      <td>['Data Analysis', 'Data Analytics', 'Business ...</td>\n",
       "      <td>['Delhi University - Hansraj College', 'Delhi ...</td>\n",
       "      <td>['B.Sc (Maths)', 'M.Sc (Science) (Statistics)']</td>\n",
       "      <td>['2015', '2018']</td>\n",
       "      <td>['N/A', 'N/A']</td>\n",
       "      <td>['N/A', 'N/A']</td>\n",
       "      <td>['Mathematics', 'Statistics']</td>\n",
       "      <td>['BIB Consultancy']</td>\n",
       "      <td>...</td>\n",
       "      <td>NaN</td>\n",
       "      <td>NaN</td>\n",
       "      <td>NaN</td>\n",
       "      <td>Machine Learning (ML) Engineer</td>\n",
       "      <td>M.Sc in Computer Science &amp; Engineering or in a...</td>\n",
       "      <td>At least 5 year(s)</td>\n",
       "      <td>NaN</td>\n",
       "      <td>Machine Learning Leadership\\nCross-Functional ...</td>\n",
       "      <td>NaN</td>\n",
       "      <td>0.750000</td>\n",
       "    </tr>\n",
       "    <tr>\n",
       "      <th>2</th>\n",
       "      <td>NaN</td>\n",
       "      <td>NaN</td>\n",
       "      <td>['Software Development', 'Machine Learning', '...</td>\n",
       "      <td>['Birla Institute of Technology (BIT), Ranchi']</td>\n",
       "      <td>['B.Tech']</td>\n",
       "      <td>['2018']</td>\n",
       "      <td>['N/A']</td>\n",
       "      <td>['N/A']</td>\n",
       "      <td>['Electronics/Telecommunication']</td>\n",
       "      <td>['Axis Bank Limited']</td>\n",
       "      <td>...</td>\n",
       "      <td>NaN</td>\n",
       "      <td>NaN</td>\n",
       "      <td>NaN</td>\n",
       "      <td>Executive/ Senior Executive- Trade Marketing, ...</td>\n",
       "      <td>Master of Business Administration (MBA)</td>\n",
       "      <td>At least 3 years</td>\n",
       "      <td>NaN</td>\n",
       "      <td>Trade Marketing Executive\\nBrand Visibility, S...</td>\n",
       "      <td>Brand Promotion\\nCampaign Management\\nField Su...</td>\n",
       "      <td>0.416667</td>\n",
       "    </tr>\n",
       "    <tr>\n",
       "      <th>3</th>\n",
       "      <td>NaN</td>\n",
       "      <td>To obtain a position in a fast-paced business ...</td>\n",
       "      <td>['accounts payables', 'accounts receivables', ...</td>\n",
       "      <td>['Martinez Adult Education, Business Training ...</td>\n",
       "      <td>['Computer Applications Specialist Certificate...</td>\n",
       "      <td>['2008']</td>\n",
       "      <td>[None]</td>\n",
       "      <td>[None]</td>\n",
       "      <td>['Computer Applications']</td>\n",
       "      <td>['Company Name ï¼ City , State', 'Company Name...</td>\n",
       "      <td>...</td>\n",
       "      <td>NaN</td>\n",
       "      <td>NaN</td>\n",
       "      <td>NaN</td>\n",
       "      <td>Business Development Executive</td>\n",
       "      <td>Bachelor/Honors</td>\n",
       "      <td>1 to 3 years</td>\n",
       "      <td>Age 22 to 30 years</td>\n",
       "      <td>Apparel Sourcing\\nQuality Garment Sourcing\\nRe...</td>\n",
       "      <td>Fast typing skill\\nIELTSInternet browsing &amp; on...</td>\n",
       "      <td>0.760000</td>\n",
       "    </tr>\n",
       "    <tr>\n",
       "      <th>4</th>\n",
       "      <td>NaN</td>\n",
       "      <td>Professional accountant with an outstanding wo...</td>\n",
       "      <td>['Analytical reasoning', 'Compliance testing k...</td>\n",
       "      <td>['Kent State University']</td>\n",
       "      <td>['Bachelor of Business Administration']</td>\n",
       "      <td>[None]</td>\n",
       "      <td>['3.84']</td>\n",
       "      <td>[None]</td>\n",
       "      <td>['Accounting']</td>\n",
       "      <td>['Company Name', 'Company Name', 'Company Name...</td>\n",
       "      <td>...</td>\n",
       "      <td>[None]</td>\n",
       "      <td>[None]</td>\n",
       "      <td>['February 15, 2021']</td>\n",
       "      <td>Senior iOS Engineer</td>\n",
       "      <td>Bachelor of Science (BSc) in Computer Science</td>\n",
       "      <td>At least 4 years</td>\n",
       "      <td>NaN</td>\n",
       "      <td>iOS Lifecycle\\nRequirement Analysis\\nNative Fr...</td>\n",
       "      <td>iOS\\niOS App Developer\\niOS Application Develo...</td>\n",
       "      <td>0.650000</td>\n",
       "    </tr>\n",
       "  </tbody>\n",
       "</table>\n",
       "<p>5 rows × 35 columns</p>\n",
       "</div>"
      ],
      "text/plain": [
       "  address                                   career_objective  \\\n",
       "0     NaN  Big data analytics working and database wareho...   \n",
       "1     NaN  Fresher looking to join as a data analyst and ...   \n",
       "2     NaN                                                NaN   \n",
       "3     NaN  To obtain a position in a fast-paced business ...   \n",
       "4     NaN  Professional accountant with an outstanding wo...   \n",
       "\n",
       "                                              skills  \\\n",
       "0  ['Big Data', 'Hadoop', 'Hive', 'Python', 'Mapr...   \n",
       "1  ['Data Analysis', 'Data Analytics', 'Business ...   \n",
       "2  ['Software Development', 'Machine Learning', '...   \n",
       "3  ['accounts payables', 'accounts receivables', ...   \n",
       "4  ['Analytical reasoning', 'Compliance testing k...   \n",
       "\n",
       "                        educational_institution_name  \\\n",
       "0  ['The Amity School of Engineering & Technology...   \n",
       "1  ['Delhi University - Hansraj College', 'Delhi ...   \n",
       "2    ['Birla Institute of Technology (BIT), Ranchi']   \n",
       "3  ['Martinez Adult Education, Business Training ...   \n",
       "4                          ['Kent State University']   \n",
       "\n",
       "                                        degree_names     passing_years  \\\n",
       "0                                         ['B.Tech']          ['2019']   \n",
       "1    ['B.Sc (Maths)', 'M.Sc (Science) (Statistics)']  ['2015', '2018']   \n",
       "2                                         ['B.Tech']          ['2018']   \n",
       "3  ['Computer Applications Specialist Certificate...          ['2008']   \n",
       "4            ['Bachelor of Business Administration']            [None]   \n",
       "\n",
       "  educational_results    result_types             major_field_of_studies  \\\n",
       "0             ['N/A']          [None]                    ['Electronics']   \n",
       "1      ['N/A', 'N/A']  ['N/A', 'N/A']      ['Mathematics', 'Statistics']   \n",
       "2             ['N/A']         ['N/A']  ['Electronics/Telecommunication']   \n",
       "3              [None]          [None]          ['Computer Applications']   \n",
       "4            ['3.84']          [None]                     ['Accounting']   \n",
       "\n",
       "                          professional_company_names  ... online_links  \\\n",
       "0                                      ['Coca-COla']  ...          NaN   \n",
       "1                                ['BIB Consultancy']  ...          NaN   \n",
       "2                              ['Axis Bank Limited']  ...          NaN   \n",
       "3  ['Company Name ï¼ City , State', 'Company Name...  ...          NaN   \n",
       "4  ['Company Name', 'Company Name', 'Company Name...  ...       [None]   \n",
       "\n",
       "  issue_dates           expiry_dates  \\\n",
       "0         NaN                    NaN   \n",
       "1         NaN                    NaN   \n",
       "2         NaN                    NaN   \n",
       "3         NaN                    NaN   \n",
       "4      [None]  ['February 15, 2021']   \n",
       "\n",
       "                                  ﻿job_position_name  \\\n",
       "0                           Senior Software Engineer   \n",
       "1                     Machine Learning (ML) Engineer   \n",
       "2  Executive/ Senior Executive- Trade Marketing, ...   \n",
       "3                     Business Development Executive   \n",
       "4                                Senior iOS Engineer   \n",
       "\n",
       "                            educationaL_requirements experiencere_requirement  \\\n",
       "0  B.Sc in Computer Science & Engineering from a ...          At least 1 year   \n",
       "1  M.Sc in Computer Science & Engineering or in a...       At least 5 year(s)   \n",
       "2            Master of Business Administration (MBA)         At least 3 years   \n",
       "3                                    Bachelor/Honors             1 to 3 years   \n",
       "4      Bachelor of Science (BSc) in Computer Science         At least 4 years   \n",
       "\n",
       "      age_requirement                                 responsibilities.1  \\\n",
       "0                 NaN  Technical Support\\nTroubleshooting\\nCollaborat...   \n",
       "1                 NaN  Machine Learning Leadership\\nCross-Functional ...   \n",
       "2                 NaN  Trade Marketing Executive\\nBrand Visibility, S...   \n",
       "3  Age 22 to 30 years  Apparel Sourcing\\nQuality Garment Sourcing\\nRe...   \n",
       "4                 NaN  iOS Lifecycle\\nRequirement Analysis\\nNative Fr...   \n",
       "\n",
       "                                     skills_required matched_score  \n",
       "0                                                NaN      0.850000  \n",
       "1                                                NaN      0.750000  \n",
       "2  Brand Promotion\\nCampaign Management\\nField Su...      0.416667  \n",
       "3  Fast typing skill\\nIELTSInternet browsing & on...      0.760000  \n",
       "4  iOS\\niOS App Developer\\niOS Application Develo...      0.650000  \n",
       "\n",
       "[5 rows x 35 columns]"
      ]
     },
     "execution_count": 2,
     "metadata": {},
     "output_type": "execute_result"
    }
   ],
   "source": [
    "df = pd.read_csv('../data/raw/resume_data_1.csv')\n",
    "df.head()"
   ]
  },
  {
   "cell_type": "code",
   "execution_count": 4,
   "id": "06a9a612",
   "metadata": {},
   "outputs": [],
   "source": [
    "resumes = df.iloc[:, :28]\n",
    "jobs = df.iloc[:, 28:-1]"
   ]
  },
  {
   "cell_type": "markdown",
   "id": "c982add6",
   "metadata": {},
   "source": [
    "# Jobs"
   ]
  },
  {
   "cell_type": "code",
   "execution_count": 5,
   "id": "aef8f644",
   "metadata": {},
   "outputs": [
    {
     "data": {
      "text/plain": [
       "Index(['﻿job_position_name', 'educationaL_requirements',\n",
       "       'experiencere_requirement', 'age_requirement', 'responsibilities.1',\n",
       "       'skills_required'],\n",
       "      dtype='object')"
      ]
     },
     "execution_count": 5,
     "metadata": {},
     "output_type": "execute_result"
    }
   ],
   "source": [
    "jobs.columns"
   ]
  },
  {
   "cell_type": "code",
   "execution_count": 6,
   "id": "ac053fa9",
   "metadata": {},
   "outputs": [],
   "source": [
    "jobs['combined'] = jobs.apply(lambda row: \" \".join(row.astype(str).values), axis=1)"
   ]
  },
  {
   "cell_type": "code",
   "execution_count": 7,
   "id": "595f3d75",
   "metadata": {},
   "outputs": [
    {
     "data": {
      "text/plain": [
       "(9544, 7)"
      ]
     },
     "execution_count": 7,
     "metadata": {},
     "output_type": "execute_result"
    }
   ],
   "source": [
    "jobs.shape"
   ]
  },
  {
   "cell_type": "code",
   "execution_count": 8,
   "id": "e0a1f648",
   "metadata": {},
   "outputs": [
    {
     "data": {
      "text/plain": [
       "(28, 7)"
      ]
     },
     "execution_count": 8,
     "metadata": {},
     "output_type": "execute_result"
    }
   ],
   "source": [
    "unique_jobs = jobs.drop_duplicates()\n",
    "unique_jobs.shape"
   ]
  },
  {
   "cell_type": "markdown",
   "id": "2e63e1d0",
   "metadata": {},
   "source": [
    "# Resumes"
   ]
  },
  {
   "cell_type": "code",
   "execution_count": 9,
   "id": "1c5bb8b8",
   "metadata": {},
   "outputs": [
    {
     "data": {
      "text/plain": [
       "(9544, 28)"
      ]
     },
     "execution_count": 9,
     "metadata": {},
     "output_type": "execute_result"
    }
   ],
   "source": [
    "resumes.shape"
   ]
  },
  {
   "cell_type": "code",
   "execution_count": 10,
   "id": "b7552e63",
   "metadata": {},
   "outputs": [
    {
     "data": {
      "text/plain": [
       "Index(['address', 'career_objective', 'skills', 'educational_institution_name',\n",
       "       'degree_names', 'passing_years', 'educational_results', 'result_types',\n",
       "       'major_field_of_studies', 'professional_company_names', 'company_urls',\n",
       "       'start_dates', 'end_dates', 'related_skils_in_job', 'positions',\n",
       "       'locations', 'responsibilities', 'extra_curricular_activity_types',\n",
       "       'extra_curricular_organization_names',\n",
       "       'extra_curricular_organization_links', 'role_positions', 'languages',\n",
       "       'proficiency_levels', 'certification_providers', 'certification_skills',\n",
       "       'online_links', 'issue_dates', 'expiry_dates'],\n",
       "      dtype='object')"
      ]
     },
     "execution_count": 10,
     "metadata": {},
     "output_type": "execute_result"
    }
   ],
   "source": [
    "resumes.columns"
   ]
  },
  {
   "cell_type": "code",
   "execution_count": 11,
   "id": "4f7cbac8",
   "metadata": {},
   "outputs": [
    {
     "data": {
      "text/plain": [
       "0"
      ]
     },
     "execution_count": 11,
     "metadata": {},
     "output_type": "execute_result"
    }
   ],
   "source": [
    "resumes.duplicated().sum()"
   ]
  },
  {
   "cell_type": "code",
   "execution_count": 12,
   "id": "0f84c4c0",
   "metadata": {},
   "outputs": [],
   "source": [
    "resumes['combined'] = resumes.apply(lambda row: \" \".join(row.astype(str).values), axis=1)"
   ]
  },
  {
   "cell_type": "code",
   "execution_count": 13,
   "id": "08d64bc7",
   "metadata": {},
   "outputs": [
    {
     "data": {
      "text/plain": [
       "0       nan Big data analytics working and database wa...\n",
       "1       nan Fresher looking to join as a data analyst ...\n",
       "2       nan nan ['Software Development', 'Machine Lear...\n",
       "3       nan To obtain a position in a fast-paced busin...\n",
       "4       nan Professional accountant with an outstandin...\n",
       "                              ...                        \n",
       "9539    nan nan ['Mathematical modelling', 'Machine Le...\n",
       "9540    nan Expertise EDA modeler. I like to learn wha...\n",
       "9541    nan Looking for roles related to application d...\n",
       "9542    nan nan ['Machine Learning', 'Natural Language...\n",
       "9543    nan nan ['assisted living', 'interpersonal and...\n",
       "Name: combined, Length: 9544, dtype: object"
      ]
     },
     "execution_count": 13,
     "metadata": {},
     "output_type": "execute_result"
    }
   ],
   "source": [
    "resumes['combined']"
   ]
  },
  {
   "cell_type": "markdown",
   "id": "b3a1f1b6",
   "metadata": {},
   "source": [
    "## Creating raw combined strings for jobs and resumes: "
   ]
  },
  {
   "cell_type": "code",
   "execution_count": 14,
   "id": "44e38897",
   "metadata": {},
   "outputs": [],
   "source": [
    "combined_jobs = jobs['combined']\n",
    "combined_resumes = resumes['combined']"
   ]
  },
  {
   "cell_type": "code",
   "execution_count": 15,
   "id": "0678457c",
   "metadata": {},
   "outputs": [
    {
     "data": {
      "text/plain": [
       "pandas.core.series.Series"
      ]
     },
     "execution_count": 15,
     "metadata": {},
     "output_type": "execute_result"
    }
   ],
   "source": [
    "type(combined_jobs)"
   ]
  },
  {
   "cell_type": "code",
   "execution_count": 16,
   "id": "f3500566",
   "metadata": {},
   "outputs": [
    {
     "data": {
      "text/plain": [
       "0       Senior Software Engineer B.Sc in Computer Scie...\n",
       "1       Machine Learning (ML) Engineer M.Sc in Compute...\n",
       "2       Executive/ Senior Executive- Trade Marketing, ...\n",
       "3       Business Development Executive Bachelor/Honors...\n",
       "4       Senior iOS Engineer Bachelor of Science (BSc) ...\n",
       "                              ...                        \n",
       "9539    Data Engineer Bachelor of Science (BSc) 5 to 8...\n",
       "9540    Executive/ Sr. Executive -IT Bachelor of Scien...\n",
       "9541    Executive - VAT BBA in Accounting and Finance ...\n",
       "9542    Asst. Manager/ Manger (Administrative) Bachelo...\n",
       "9543    Civil Engineer B.Sc in Civil Engineering from ...\n",
       "Name: combined, Length: 9544, dtype: object"
      ]
     },
     "execution_count": 16,
     "metadata": {},
     "output_type": "execute_result"
    }
   ],
   "source": [
    "combined_jobs"
   ]
  },
  {
   "cell_type": "code",
   "execution_count": 17,
   "id": "57c676dd",
   "metadata": {},
   "outputs": [],
   "source": [
    "combined_jobs = combined_jobs.drop_duplicates()"
   ]
  },
  {
   "cell_type": "code",
   "execution_count": 22,
   "id": "37aa0de9",
   "metadata": {},
   "outputs": [
    {
     "data": {
      "text/plain": [
       "0      Senior Software Engineer B.Sc in Computer Scie...\n",
       "1      Machine Learning (ML) Engineer M.Sc in Compute...\n",
       "2      Executive/ Senior Executive- Trade Marketing, ...\n",
       "3      Business Development Executive Bachelor/Honors...\n",
       "4      Senior iOS Engineer Bachelor of Science (BSc) ...\n",
       "5      AI Engineer Bachelors or Masters degree in Com...\n",
       "8      Mechanical Engineer Bachelor of Science (BSc) ...\n",
       "10     Mechanical Designer Bachelor’s degree in Mecha...\n",
       "11     Asst. Manager/ Manger (Administrative) Bachelo...\n",
       "15     Database Administrator (DBA) Bachelor of Scien...\n",
       "16     System Administrator (Operation & Maintenance ...\n",
       "18     Project Coordinator (Civil) •Bachelor of Busin...\n",
       "19     Executive/ Sr. Executive -IT Bachelor of Scien...\n",
       "21     Network Support Engineer Diploma, Bachelor/Hon...\n",
       "23     Intern (Generative AI Engineering - 2D/3D Imag...\n",
       "24     Executive - VAT BBA in Accounting and Finance ...\n",
       "26     Sr.Officer / Executive - Internal Audit Master...\n",
       "27     Management Trainee - Mechanical Fresh graduate...\n",
       "30     HR Officer •Bachelor of Business Administratio...\n",
       "31     DevOps Engineer Bachelor/Honors At least 3 yea...\n",
       "38     Data Engineer Bachelor of Science (BSc) 5 to 8...\n",
       "42     Head of Internal Control & Compliance (ICC) - ...\n",
       "43     Full Stack Developer (Python,React js) Bachelo...\n",
       "47     Civil Engineer B.Sc in Civil Engineering from ...\n",
       "49     Data Science Engineer Bachelor of Science (BSc...\n",
       "116    Manager- Human Resource Management (HRM)\\n Mas...\n",
       "128    Marketing Officer Bachelor/Honors At least 1 y...\n",
       "135    Site Engineer Bachelor of Science (BSc) in Civ...\n",
       "Name: combined, dtype: object"
      ]
     },
     "execution_count": 22,
     "metadata": {},
     "output_type": "execute_result"
    }
   ],
   "source": [
    "combined_jobs"
   ]
  },
  {
   "cell_type": "code",
   "execution_count": 23,
   "id": "06f6d666",
   "metadata": {},
   "outputs": [],
   "source": [
    "combined_jobs.to_csv('../data/processed/job_strings.csv')\n",
    "combined_resumes.to_csv('../data/processed/resume_strings.csv')"
   ]
  },
  {
   "cell_type": "code",
   "execution_count": null,
   "id": "bc7e392b",
   "metadata": {},
   "outputs": [],
   "source": []
  }
 ],
 "metadata": {
  "kernelspec": {
   "display_name": "Python 3 (ipykernel)",
   "language": "python",
   "name": "python3"
  },
  "language_info": {
   "codemirror_mode": {
    "name": "ipython",
    "version": 3
   },
   "file_extension": ".py",
   "mimetype": "text/x-python",
   "name": "python",
   "nbconvert_exporter": "python",
   "pygments_lexer": "ipython3",
   "version": "3.11.3"
  }
 },
 "nbformat": 4,
 "nbformat_minor": 5
}
