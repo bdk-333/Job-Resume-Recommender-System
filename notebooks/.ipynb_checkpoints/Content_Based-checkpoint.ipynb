{
 "cells": [
  {
   "cell_type": "markdown",
   "id": "93502969",
   "metadata": {},
   "source": [
    "## Importing libraries"
   ]
  },
  {
   "cell_type": "code",
   "execution_count": 16,
   "id": "86777303",
   "metadata": {},
   "outputs": [],
   "source": [
    "import pandas as pd\n",
    "import numpy as np"
   ]
  },
  {
   "cell_type": "code",
   "execution_count": 17,
   "id": "0f9fc944",
   "metadata": {},
   "outputs": [],
   "source": [
    "df = pd.read_csv('../data/raw/resume_data_1.csv')"
   ]
  },
  {
   "cell_type": "markdown",
   "id": "17783b5c",
   "metadata": {},
   "source": [
    "### Dropping irrelevant columns:"
   ]
  },
  {
   "cell_type": "code",
   "execution_count": 18,
   "id": "51dc33a3",
   "metadata": {},
   "outputs": [],
   "source": [
    "df = df.drop(columns = [\"responsibilities\",\"address\", \"locations\", \"extra_curricular_organization_links\", \"online_links\", \"issue_dates\", \"expiry_dates\", \"company_urls\"])"
   ]
  },
  {
   "cell_type": "code",
   "execution_count": 19,
   "id": "414e3fa1",
   "metadata": {},
   "outputs": [
    {
     "name": "stdout",
     "output_type": "stream",
     "text": [
      "<class 'pandas.core.frame.DataFrame'>\n",
      "RangeIndex: 9544 entries, 0 to 9543\n",
      "Data columns (total 27 columns):\n",
      " #   Column                               Non-Null Count  Dtype  \n",
      "---  ------                               --------------  -----  \n",
      " 0   career_objective                     4740 non-null   object \n",
      " 1   skills                               9488 non-null   object \n",
      " 2   educational_institution_name         9460 non-null   object \n",
      " 3   degree_names                         9460 non-null   object \n",
      " 4   passing_years                        9460 non-null   object \n",
      " 5   educational_results                  9460 non-null   object \n",
      " 6   result_types                         9460 non-null   object \n",
      " 7   major_field_of_studies               9460 non-null   object \n",
      " 8   professional_company_names           9460 non-null   object \n",
      " 9   start_dates                          9460 non-null   object \n",
      " 10  end_dates                            9460 non-null   object \n",
      " 11  related_skils_in_job                 9460 non-null   object \n",
      " 12  positions                            9460 non-null   object \n",
      " 13  extra_curricular_activity_types      3426 non-null   object \n",
      " 14  extra_curricular_organization_names  3426 non-null   object \n",
      " 15  role_positions                       3426 non-null   object \n",
      " 16  languages                            700 non-null    object \n",
      " 17  proficiency_levels                   700 non-null    object \n",
      " 18  certification_providers              2008 non-null   object \n",
      " 19  certification_skills                 2008 non-null   object \n",
      " 20  ﻿job_position_name                   9544 non-null   object \n",
      " 21  educationaL_requirements             9544 non-null   object \n",
      " 22  experiencere_requirement             8180 non-null   object \n",
      " 23  age_requirement                      5457 non-null   object \n",
      " 24  responsibilities.1                   9544 non-null   object \n",
      " 25  skills_required                      7843 non-null   object \n",
      " 26  matched_score                        9544 non-null   float64\n",
      "dtypes: float64(1), object(26)\n",
      "memory usage: 2.0+ MB\n"
     ]
    }
   ],
   "source": [
    "df.info()"
   ]
  },
  {
   "cell_type": "markdown",
   "id": "48b311e6",
   "metadata": {},
   "source": [
    "Separating features into resume-related features and job-related features:"
   ]
  },
  {
   "cell_type": "code",
   "execution_count": 20,
   "id": "8739fa1a",
   "metadata": {},
   "outputs": [],
   "source": [
    "resumes = df.iloc[:, :20]\n",
    "jobs = df.iloc[:, 20:]"
   ]
  },
  {
   "cell_type": "code",
   "execution_count": 21,
   "id": "9356419b",
   "metadata": {},
   "outputs": [
    {
     "data": {
      "text/plain": [
       "(344, 21)"
      ]
     },
     "execution_count": 21,
     "metadata": {},
     "output_type": "execute_result"
    }
   ],
   "source": [
    "resumes = resumes.drop_duplicates().reset_index()\n",
    "resumes.shape"
   ]
  },
  {
   "cell_type": "code",
   "execution_count": 22,
   "id": "fcd1544d",
   "metadata": {},
   "outputs": [],
   "source": [
    "# dropping matched score col\n",
    "jobs = jobs.drop(columns=['matched_score'])"
   ]
  },
  {
   "cell_type": "code",
   "execution_count": 23,
   "id": "fac325ad",
   "metadata": {},
   "outputs": [],
   "source": [
    "jobs = jobs.drop_duplicates().reset_index()"
   ]
  },
  {
   "cell_type": "code",
   "execution_count": 24,
   "id": "32de064c",
   "metadata": {},
   "outputs": [
    {
     "data": {
      "text/plain": [
       "(28, 7)"
      ]
     },
     "execution_count": 24,
     "metadata": {},
     "output_type": "execute_result"
    }
   ],
   "source": [
    "jobs.shape"
   ]
  },
  {
   "cell_type": "markdown",
   "id": "b3fd64ed",
   "metadata": {},
   "source": [
    "We have 28 Unique jobs and 344 unique resumes."
   ]
  },
  {
   "cell_type": "markdown",
   "id": "0ef20e24",
   "metadata": {},
   "source": [
    "### Creating a long format string for each resume and job - to use for similarity matching:"
   ]
  },
  {
   "cell_type": "code",
   "execution_count": 25,
   "id": "e3e2dd15",
   "metadata": {},
   "outputs": [
    {
     "data": {
      "text/plain": [
       "0    0 Big data analytics working and database ware...\n",
       "1    1 Fresher looking to join as a data analyst an...\n",
       "2    2 nan ['Software Development', 'Machine Learni...\n",
       "3    3 To obtain a position in a fast-paced busines...\n",
       "4    4 Professional accountant with an outstanding ...\n",
       "dtype: object"
      ]
     },
     "execution_count": 25,
     "metadata": {},
     "output_type": "execute_result"
    }
   ],
   "source": [
    "resume_strings = resumes.apply(lambda row: \" \".join(row.astype(str).values), axis=1)\n",
    "resume_strings.head()"
   ]
  },
  {
   "cell_type": "code",
   "execution_count": 26,
   "id": "673e653a",
   "metadata": {},
   "outputs": [
    {
     "data": {
      "text/plain": [
       "0    0 Senior Software Engineer B.Sc in Computer Sc...\n",
       "1    1 Machine Learning (ML) Engineer M.Sc in Compu...\n",
       "2    2 Executive/ Senior Executive- Trade Marketing...\n",
       "3    3 Business Development Executive Bachelor/Hono...\n",
       "4    4 Senior iOS Engineer Bachelor of Science (BSc...\n",
       "dtype: object"
      ]
     },
     "execution_count": 26,
     "metadata": {},
     "output_type": "execute_result"
    }
   ],
   "source": [
    "job_strings = jobs.apply(lambda row: \" \".join(row.astype(str).values), axis=1)\n",
    "job_strings.head()"
   ]
  },
  {
   "cell_type": "markdown",
   "id": "0513900e",
   "metadata": {},
   "source": [
    "Removing index from the front of the strings"
   ]
  },
  {
   "cell_type": "code",
   "execution_count": 27,
   "id": "3bbe68ca",
   "metadata": {},
   "outputs": [],
   "source": [
    "resume_strings = resume_strings.apply(lambda row: row[2:])"
   ]
  },
  {
   "cell_type": "code",
   "execution_count": 28,
   "id": "3ca39b00",
   "metadata": {},
   "outputs": [
    {
     "data": {
      "text/html": [
       "<div>\n",
       "<style scoped>\n",
       "    .dataframe tbody tr th:only-of-type {\n",
       "        vertical-align: middle;\n",
       "    }\n",
       "\n",
       "    .dataframe tbody tr th {\n",
       "        vertical-align: top;\n",
       "    }\n",
       "\n",
       "    .dataframe thead th {\n",
       "        text-align: right;\n",
       "    }\n",
       "</style>\n",
       "<table border=\"1\" class=\"dataframe\">\n",
       "  <thead>\n",
       "    <tr style=\"text-align: right;\">\n",
       "      <th></th>\n",
       "      <th>res_id</th>\n",
       "      <th>data</th>\n",
       "    </tr>\n",
       "  </thead>\n",
       "  <tbody>\n",
       "    <tr>\n",
       "      <th>0</th>\n",
       "      <td>0</td>\n",
       "      <td>Big data analytics working and database wareho...</td>\n",
       "    </tr>\n",
       "    <tr>\n",
       "      <th>1</th>\n",
       "      <td>1</td>\n",
       "      <td>Fresher looking to join as a data analyst and ...</td>\n",
       "    </tr>\n",
       "    <tr>\n",
       "      <th>2</th>\n",
       "      <td>2</td>\n",
       "      <td>nan ['Software Development', 'Machine Learning...</td>\n",
       "    </tr>\n",
       "    <tr>\n",
       "      <th>3</th>\n",
       "      <td>3</td>\n",
       "      <td>To obtain a position in a fast-paced business ...</td>\n",
       "    </tr>\n",
       "    <tr>\n",
       "      <th>4</th>\n",
       "      <td>4</td>\n",
       "      <td>Professional accountant with an outstanding wo...</td>\n",
       "    </tr>\n",
       "  </tbody>\n",
       "</table>\n",
       "</div>"
      ],
      "text/plain": [
       "   res_id                                               data\n",
       "0       0  Big data analytics working and database wareho...\n",
       "1       1  Fresher looking to join as a data analyst and ...\n",
       "2       2  nan ['Software Development', 'Machine Learning...\n",
       "3       3  To obtain a position in a fast-paced business ...\n",
       "4       4  Professional accountant with an outstanding wo..."
      ]
     },
     "execution_count": 28,
     "metadata": {},
     "output_type": "execute_result"
    }
   ],
   "source": [
    "resumes = pd.DataFrame({'res_id': range(0, 344), 'data': resume_strings.values})\n",
    "resumes.head()"
   ]
  },
  {
   "cell_type": "code",
   "execution_count": 29,
   "id": "c3369080",
   "metadata": {},
   "outputs": [],
   "source": [
    "job_strings = job_strings.apply(lambda row: row[2:])"
   ]
  },
  {
   "cell_type": "code",
   "execution_count": 30,
   "id": "519aff7f",
   "metadata": {},
   "outputs": [
    {
     "data": {
      "text/html": [
       "<div>\n",
       "<style scoped>\n",
       "    .dataframe tbody tr th:only-of-type {\n",
       "        vertical-align: middle;\n",
       "    }\n",
       "\n",
       "    .dataframe tbody tr th {\n",
       "        vertical-align: top;\n",
       "    }\n",
       "\n",
       "    .dataframe thead th {\n",
       "        text-align: right;\n",
       "    }\n",
       "</style>\n",
       "<table border=\"1\" class=\"dataframe\">\n",
       "  <thead>\n",
       "    <tr style=\"text-align: right;\">\n",
       "      <th></th>\n",
       "      <th>job_id</th>\n",
       "      <th>data</th>\n",
       "    </tr>\n",
       "  </thead>\n",
       "  <tbody>\n",
       "    <tr>\n",
       "      <th>0</th>\n",
       "      <td>0</td>\n",
       "      <td>Senior Software Engineer B.Sc in Computer Scie...</td>\n",
       "    </tr>\n",
       "    <tr>\n",
       "      <th>1</th>\n",
       "      <td>1</td>\n",
       "      <td>Machine Learning (ML) Engineer M.Sc in Compute...</td>\n",
       "    </tr>\n",
       "    <tr>\n",
       "      <th>2</th>\n",
       "      <td>2</td>\n",
       "      <td>Executive/ Senior Executive- Trade Marketing, ...</td>\n",
       "    </tr>\n",
       "    <tr>\n",
       "      <th>3</th>\n",
       "      <td>3</td>\n",
       "      <td>Business Development Executive Bachelor/Honors...</td>\n",
       "    </tr>\n",
       "    <tr>\n",
       "      <th>4</th>\n",
       "      <td>4</td>\n",
       "      <td>Senior iOS Engineer Bachelor of Science (BSc) ...</td>\n",
       "    </tr>\n",
       "  </tbody>\n",
       "</table>\n",
       "</div>"
      ],
      "text/plain": [
       "   job_id                                               data\n",
       "0       0  Senior Software Engineer B.Sc in Computer Scie...\n",
       "1       1  Machine Learning (ML) Engineer M.Sc in Compute...\n",
       "2       2  Executive/ Senior Executive- Trade Marketing, ...\n",
       "3       3  Business Development Executive Bachelor/Honors...\n",
       "4       4  Senior iOS Engineer Bachelor of Science (BSc) ..."
      ]
     },
     "execution_count": 30,
     "metadata": {},
     "output_type": "execute_result"
    }
   ],
   "source": [
    "jobs = pd.DataFrame({'job_id': range(0, 28), 'data': job_strings.values})\n",
    "jobs.head()"
   ]
  },
  {
   "cell_type": "code",
   "execution_count": 33,
   "id": "bfefbcbd",
   "metadata": {},
   "outputs": [],
   "source": [
    "# resume_strings = pd.read_csv('...')\n",
    "# job_strings = pd.read_csv('...')"
   ]
  },
  {
   "cell_type": "markdown",
   "id": "1912154d",
   "metadata": {},
   "source": [
    "### Using tfidf to vectorize resume and job strings:"
   ]
  },
  {
   "cell_type": "code",
   "execution_count": 34,
   "id": "2fc982f9",
   "metadata": {},
   "outputs": [],
   "source": [
    "from sklearn.feature_extraction.text import TfidfVectorizer"
   ]
  },
  {
   "cell_type": "code",
   "execution_count": 35,
   "id": "f09690f1",
   "metadata": {},
   "outputs": [],
   "source": [
    "tfidf = TfidfVectorizer()"
   ]
  },
  {
   "cell_type": "code",
   "execution_count": 36,
   "id": "526147c4",
   "metadata": {},
   "outputs": [
    {
     "name": "stdout",
     "output_type": "stream",
     "text": [
      "(344, 4961)\n",
      "(28, 4961)\n"
     ]
    }
   ],
   "source": [
    "resume_tfidf = tfidf.fit_transform(resume_strings.values)\n",
    "job_tfidf = tfidf.transform(job_strings.values)\n",
    "\n",
    "print(resume_tfidf.shape)\n",
    "print(job_tfidf.shape)"
   ]
  },
  {
   "cell_type": "markdown",
   "id": "bbacfaef",
   "metadata": {},
   "source": [
    "We have total of 4961 terms in the dataset."
   ]
  },
  {
   "cell_type": "markdown",
   "id": "0591e41a",
   "metadata": {},
   "source": [
    "### Using Cosine Similarity to recommend best jobs for a resume:"
   ]
  },
  {
   "cell_type": "code",
   "execution_count": 37,
   "id": "99fb10b6",
   "metadata": {},
   "outputs": [],
   "source": [
    "from sklearn.metrics.pairwise import cosine_similarity\n",
    "sim_matrix = cosine_similarity(resume_tfidf, job_tfidf)"
   ]
  },
  {
   "cell_type": "code",
   "execution_count": 38,
   "id": "7c60bc4e",
   "metadata": {},
   "outputs": [],
   "source": [
    "top_n = 3\n",
    "recommendations = []\n",
    "\n",
    "for i in range(5):\n",
    "    top_jobs = sim_matrix[i].argsort()[::-1][:top_n]\n",
    "    recommendations.append({\n",
    "        \"resume_id\": resumes.loc[i, \"res_id\"],\n",
    "        \"top_recommendations\": [jobs.loc[j, \"job_id\"] for j in top_jobs]\n",
    "    })"
   ]
  },
  {
   "cell_type": "code",
   "execution_count": 39,
   "id": "521c9e81",
   "metadata": {},
   "outputs": [
    {
     "name": "stdout",
     "output_type": "stream",
     "text": [
      "Sample Resumes and Their Top-3 Job Recommendations:\n",
      "   resume_id top_recommendations\n",
      "0          0         [20, 19, 1]\n",
      "1          1          [20, 1, 0]\n",
      "2          2          [24, 0, 8]\n",
      "3          3         [8, 11, 23]\n",
      "4          4        [15, 21, 16]\n"
     ]
    }
   ],
   "source": [
    "print(f\"Sample Resumes and Their Top-3 Job Recommendations:\\n{pd.DataFrame(recommendations)}\")"
   ]
  },
  {
   "cell_type": "markdown",
   "id": "70b9585c",
   "metadata": {},
   "source": [
    "So from our recommendation, for resume_id = 0, it suggests job_id = (20, 19, 1)"
   ]
  },
  {
   "cell_type": "code",
   "execution_count": null,
   "id": "c8977f28",
   "metadata": {},
   "outputs": [],
   "source": []
  }
 ],
 "metadata": {
  "kernelspec": {
   "display_name": "Python 3 (ipykernel)",
   "language": "python",
   "name": "python3"
  },
  "language_info": {
   "codemirror_mode": {
    "name": "ipython",
    "version": 3
   },
   "file_extension": ".py",
   "mimetype": "text/x-python",
   "name": "python",
   "nbconvert_exporter": "python",
   "pygments_lexer": "ipython3",
   "version": "3.11.3"
  }
 },
 "nbformat": 4,
 "nbformat_minor": 5
}
