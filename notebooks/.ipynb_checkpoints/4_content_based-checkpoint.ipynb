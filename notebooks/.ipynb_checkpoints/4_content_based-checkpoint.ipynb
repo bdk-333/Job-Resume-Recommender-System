{
 "cells": [
  {
   "cell_type": "markdown",
   "id": "0c368b30",
   "metadata": {},
   "source": [
    "## Importing libraries"
   ]
  },
  {
   "cell_type": "markdown",
   "id": "19de3490",
   "metadata": {},
   "source": [
    "Run the 1_analysis_preprocesing file before this file to create data for this file.\n",
    "\n",
    "You can create multiple variants of data by adding some preprocessing methods or removing some based on the experiement."
   ]
  },
  {
   "cell_type": "code",
   "execution_count": 1,
   "id": "21d4afd7",
   "metadata": {},
   "outputs": [],
   "source": [
    "import pandas as pd\n",
    "import numpy as np"
   ]
  },
  {
   "cell_type": "markdown",
   "id": "1031ccef",
   "metadata": {},
   "source": [
    "### Load data"
   ]
  },
  {
   "cell_type": "markdown",
   "id": "bff0f338",
   "metadata": {},
   "source": [
    "Load data from the processed files. "
   ]
  },
  {
   "cell_type": "code",
   "execution_count": 3,
   "id": "97bcbbbc",
   "metadata": {},
   "outputs": [],
   "source": [
    "# df = pd.read_csv('../data/processed/content.csv')\n",
    "df = pd.read_csv('../data/processed/6_checkpoint_final_data.csv')"
   ]
  },
  {
   "cell_type": "code",
   "execution_count": 4,
   "id": "f474c9e5",
   "metadata": {},
   "outputs": [
    {
     "data": {
      "text/plain": [
       "Index(['career_objective', 'skills', 'educational_institution_name',\n",
       "       'degree_names', 'passing_years', 'educational_results', 'result_types',\n",
       "       'major_field_of_studies', 'professional_company_names', 'start_dates',\n",
       "       'end_dates', 'related_skils_in_job', 'positions', 'responsibilities',\n",
       "       'extra_curricular_activity_types',\n",
       "       'extra_curricular_organization_names', 'role_positions', 'languages',\n",
       "       'proficiency_levels', 'certification_providers', 'certification_skills',\n",
       "       'job_position_name', 'educational_requirements',\n",
       "       'experiencere_requirement', 'age_requirement', 'skills_required',\n",
       "       'matched_score', 'resume_id', 'resume_text', 'job_id', 'jobs_text',\n",
       "       'total_experience', 'min_experience_required', 'experience_match',\n",
       "       'skills_matching_ratio', 'matching_words_count',\n",
       "       'Resume_Cluster_KMeans'],\n",
       "      dtype='object')"
      ]
     },
     "execution_count": 4,
     "metadata": {},
     "output_type": "execute_result"
    }
   ],
   "source": [
    "df.columns"
   ]
  },
  {
   "cell_type": "code",
   "execution_count": 5,
   "id": "b55f2d2c",
   "metadata": {},
   "outputs": [],
   "source": [
    "full_data = df[['matched_score', 'resume_id', 'resume_text', 'job_id', 'jobs_text']]"
   ]
  },
  {
   "cell_type": "code",
   "execution_count": 6,
   "id": "30e00274",
   "metadata": {},
   "outputs": [
    {
     "data": {
      "text/html": [
       "<div>\n",
       "<style scoped>\n",
       "    .dataframe tbody tr th:only-of-type {\n",
       "        vertical-align: middle;\n",
       "    }\n",
       "\n",
       "    .dataframe tbody tr th {\n",
       "        vertical-align: top;\n",
       "    }\n",
       "\n",
       "    .dataframe thead th {\n",
       "        text-align: right;\n",
       "    }\n",
       "</style>\n",
       "<table border=\"1\" class=\"dataframe\">\n",
       "  <thead>\n",
       "    <tr style=\"text-align: right;\">\n",
       "      <th></th>\n",
       "      <th>matched_score</th>\n",
       "      <th>resume_id</th>\n",
       "      <th>resume_text</th>\n",
       "      <th>job_id</th>\n",
       "      <th>jobs_text</th>\n",
       "    </tr>\n",
       "  </thead>\n",
       "  <tbody>\n",
       "    <tr>\n",
       "      <th>0</th>\n",
       "      <td>0.850000</td>\n",
       "      <td>1</td>\n",
       "      <td>big data analytics working database warehouse ...</td>\n",
       "      <td>1</td>\n",
       "      <td>senior software engineer b.sc computer science...</td>\n",
       "    </tr>\n",
       "    <tr>\n",
       "      <th>1</th>\n",
       "      <td>0.750000</td>\n",
       "      <td>2</td>\n",
       "      <td>fresher looking join data analyst junior data ...</td>\n",
       "      <td>2</td>\n",
       "      <td>machine learning (ml) engineer m.sc computer s...</td>\n",
       "    </tr>\n",
       "    <tr>\n",
       "      <th>2</th>\n",
       "      <td>0.416667</td>\n",
       "      <td>3</td>\n",
       "      <td>['software development', 'machine learning', '...</td>\n",
       "      <td>3</td>\n",
       "      <td>executive/ senior executive trade marketing, h...</td>\n",
       "    </tr>\n",
       "    <tr>\n",
       "      <th>3</th>\n",
       "      <td>0.760000</td>\n",
       "      <td>4</td>\n",
       "      <td>obtain position fastpaced business office envi...</td>\n",
       "      <td>4</td>\n",
       "      <td>business development executive bachelor/honors...</td>\n",
       "    </tr>\n",
       "    <tr>\n",
       "      <th>4</th>\n",
       "      <td>0.650000</td>\n",
       "      <td>5</td>\n",
       "      <td>professional accountant outstanding work ethic...</td>\n",
       "      <td>5</td>\n",
       "      <td>senior io engineer bachelor science (bsc) comp...</td>\n",
       "    </tr>\n",
       "    <tr>\n",
       "      <th>...</th>\n",
       "      <td>...</td>\n",
       "      <td>...</td>\n",
       "      <td>...</td>\n",
       "      <td>...</td>\n",
       "      <td>...</td>\n",
       "    </tr>\n",
       "    <tr>\n",
       "      <th>9539</th>\n",
       "      <td>0.683333</td>\n",
       "      <td>217</td>\n",
       "      <td>['mathematical modelling', 'machine learning',...</td>\n",
       "      <td>21</td>\n",
       "      <td>data engineer bachelor science (bsc) data plat...</td>\n",
       "    </tr>\n",
       "    <tr>\n",
       "      <th>9540</th>\n",
       "      <td>0.650000</td>\n",
       "      <td>24</td>\n",
       "      <td>expertise eda modeler. like learn data contain...</td>\n",
       "      <td>13</td>\n",
       "      <td>executive/ sr. executive bachelor science (bsc...</td>\n",
       "    </tr>\n",
       "    <tr>\n",
       "      <th>9541</th>\n",
       "      <td>0.650000</td>\n",
       "      <td>235</td>\n",
       "      <td>looking role related application development m...</td>\n",
       "      <td>16</td>\n",
       "      <td>executive vat bba accounting finance mushak fo...</td>\n",
       "    </tr>\n",
       "    <tr>\n",
       "      <th>9542</th>\n",
       "      <td>0.650000</td>\n",
       "      <td>267</td>\n",
       "      <td>['machine learning', 'natural language process...</td>\n",
       "      <td>9</td>\n",
       "      <td>asst. manager/ manger (administrative) bachelo...</td>\n",
       "    </tr>\n",
       "    <tr>\n",
       "      <th>9543</th>\n",
       "      <td>0.650000</td>\n",
       "      <td>55</td>\n",
       "      <td>['assisted living', 'interpersonal communicati...</td>\n",
       "      <td>24</td>\n",
       "      <td>civil engineer b.sc civil engineering reputed ...</td>\n",
       "    </tr>\n",
       "  </tbody>\n",
       "</table>\n",
       "<p>9544 rows × 5 columns</p>\n",
       "</div>"
      ],
      "text/plain": [
       "      matched_score  resume_id  \\\n",
       "0          0.850000          1   \n",
       "1          0.750000          2   \n",
       "2          0.416667          3   \n",
       "3          0.760000          4   \n",
       "4          0.650000          5   \n",
       "...             ...        ...   \n",
       "9539       0.683333        217   \n",
       "9540       0.650000         24   \n",
       "9541       0.650000        235   \n",
       "9542       0.650000        267   \n",
       "9543       0.650000         55   \n",
       "\n",
       "                                            resume_text  job_id  \\\n",
       "0     big data analytics working database warehouse ...       1   \n",
       "1     fresher looking join data analyst junior data ...       2   \n",
       "2     ['software development', 'machine learning', '...       3   \n",
       "3     obtain position fastpaced business office envi...       4   \n",
       "4     professional accountant outstanding work ethic...       5   \n",
       "...                                                 ...     ...   \n",
       "9539  ['mathematical modelling', 'machine learning',...      21   \n",
       "9540  expertise eda modeler. like learn data contain...      13   \n",
       "9541  looking role related application development m...      16   \n",
       "9542  ['machine learning', 'natural language process...       9   \n",
       "9543  ['assisted living', 'interpersonal communicati...      24   \n",
       "\n",
       "                                              jobs_text  \n",
       "0     senior software engineer b.sc computer science...  \n",
       "1     machine learning (ml) engineer m.sc computer s...  \n",
       "2     executive/ senior executive trade marketing, h...  \n",
       "3     business development executive bachelor/honors...  \n",
       "4     senior io engineer bachelor science (bsc) comp...  \n",
       "...                                                 ...  \n",
       "9539  data engineer bachelor science (bsc) data plat...  \n",
       "9540  executive/ sr. executive bachelor science (bsc...  \n",
       "9541  executive vat bba accounting finance mushak fo...  \n",
       "9542  asst. manager/ manger (administrative) bachelo...  \n",
       "9543  civil engineer b.sc civil engineering reputed ...  \n",
       "\n",
       "[9544 rows x 5 columns]"
      ]
     },
     "execution_count": 6,
     "metadata": {},
     "output_type": "execute_result"
    }
   ],
   "source": [
    "full_data"
   ]
  },
  {
   "cell_type": "code",
   "execution_count": 7,
   "id": "28209df3",
   "metadata": {},
   "outputs": [],
   "source": [
    "resumes = full_data[[\"resume_id\", \"resume_text\"]]\n",
    "jobs = full_data[[\"job_id\", \"jobs_text\"]]"
   ]
  },
  {
   "cell_type": "code",
   "execution_count": 8,
   "id": "9a41b815",
   "metadata": {},
   "outputs": [],
   "source": [
    "resume_strings = resumes[\"resume_text\"]\n",
    "job_strings = jobs[\"jobs_text\"]"
   ]
  },
  {
   "cell_type": "code",
   "execution_count": 9,
   "id": "1ce41f09",
   "metadata": {},
   "outputs": [],
   "source": [
    "resume_strings = resume_strings.drop_duplicates()\n",
    "job_strings = job_strings.drop_duplicates()"
   ]
  },
  {
   "cell_type": "markdown",
   "id": "0bfc4b0a",
   "metadata": {},
   "source": [
    "### Using tfidf to vectorize resume and job strings:"
   ]
  },
  {
   "cell_type": "code",
   "execution_count": 10,
   "id": "0d18c219",
   "metadata": {},
   "outputs": [],
   "source": [
    "from sklearn.feature_extraction.text import TfidfVectorizer"
   ]
  },
  {
   "cell_type": "code",
   "execution_count": 11,
   "id": "9b624a8f",
   "metadata": {},
   "outputs": [],
   "source": [
    "tfidf = TfidfVectorizer()"
   ]
  },
  {
   "cell_type": "code",
   "execution_count": 12,
   "id": "0da5246a",
   "metadata": {},
   "outputs": [
    {
     "name": "stdout",
     "output_type": "stream",
     "text": [
      "(344, 4952)\n",
      "(28, 4952)\n"
     ]
    }
   ],
   "source": [
    "resume_tfidf = tfidf.fit_transform(resume_strings.values)\n",
    "job_tfidf = tfidf.transform(job_strings.values)\n",
    "\n",
    "print(resume_tfidf.shape)\n",
    "print(job_tfidf.shape)"
   ]
  },
  {
   "cell_type": "markdown",
   "id": "2f3eaf8c",
   "metadata": {},
   "source": [
    "We have total of 4961 terms in the dataset."
   ]
  },
  {
   "cell_type": "markdown",
   "id": "24746429",
   "metadata": {},
   "source": [
    "### Using Cosine Similarity to recommend best jobs for a resume:"
   ]
  },
  {
   "cell_type": "code",
   "execution_count": 13,
   "id": "0d8fb499",
   "metadata": {},
   "outputs": [],
   "source": [
    "from sklearn.metrics.pairwise import cosine_similarity\n",
    "sim_matrix = cosine_similarity(resume_tfidf, job_tfidf)"
   ]
  },
  {
   "cell_type": "code",
   "execution_count": 14,
   "id": "8a8dc50c",
   "metadata": {},
   "outputs": [
    {
     "data": {
      "text/plain": [
       "array([[0.00860245, 0.06484749, 0.        , ..., 0.01361648, 0.0356808 ,\n",
       "        0.00658609],\n",
       "       [0.07416246, 0.12443126, 0.01252075, ..., 0.03407852, 0.02458509,\n",
       "        0.00327719],\n",
       "       [0.06435247, 0.06346508, 0.        , ..., 0.        , 0.        ,\n",
       "        0.00740992],\n",
       "       ...,\n",
       "       [0.02351784, 0.01843194, 0.04668449, ..., 0.20131289, 0.06628729,\n",
       "        0.05270651],\n",
       "       [0.0951178 , 0.13746047, 0.        , ..., 0.01088929, 0.        ,\n",
       "        0.00508909],\n",
       "       [0.0265125 , 0.04179   , 0.00427706, ..., 0.00531457, 0.01679644,\n",
       "        0.00447793]])"
      ]
     },
     "execution_count": 14,
     "metadata": {},
     "output_type": "execute_result"
    }
   ],
   "source": [
    "sim_matrix"
   ]
  },
  {
   "cell_type": "code",
   "execution_count": 15,
   "id": "e4ec9c15",
   "metadata": {},
   "outputs": [],
   "source": [
    "top_n = 3\n",
    "recommendations = []\n",
    "\n",
    "for i in range(5):\n",
    "    top_jobs = sim_matrix[i].argsort()[::-1][:top_n]\n",
    "    recommendations.append({\n",
    "        \"resume_id\": i+1,\n",
    "        \"top_recommendations\": [j+1 for j in top_jobs]\n",
    "    })"
   ]
  },
  {
   "cell_type": "code",
   "execution_count": 16,
   "id": "c0638e33",
   "metadata": {},
   "outputs": [
    {
     "name": "stdout",
     "output_type": "stream",
     "text": [
      "Sample Resumes and Their Top-3 Job Recommendations:\n",
      "   resume_id top_recommendations\n",
      "0          1        [21, 20, 10]\n",
      "1          2         [21, 2, 25]\n",
      "2          3         [9, 25, 21]\n",
      "3          4         [9, 12, 25]\n",
      "4          5        [16, 22, 17]\n"
     ]
    }
   ],
   "source": [
    "print(f\"Sample Resumes and Their Top-3 Job Recommendations:\\n{pd.DataFrame(recommendations)}\")"
   ]
  },
  {
   "cell_type": "code",
   "execution_count": 17,
   "id": "6de959cb",
   "metadata": {},
   "outputs": [
    {
     "data": {
      "text/plain": [
       "344"
      ]
     },
     "execution_count": 17,
     "metadata": {},
     "output_type": "execute_result"
    }
   ],
   "source": [
    "resume_strings.shape[0]"
   ]
  },
  {
   "cell_type": "markdown",
   "id": "bdf8a026",
   "metadata": {},
   "source": [
    "## Custom evaluation metrics"
   ]
  },
  {
   "cell_type": "markdown",
   "id": "8eeafb62",
   "metadata": {},
   "source": [
    "We have create custom evaluation metrics to identify the percentage of recommendations matching the top n recommendations of the original dataset based on the matched score."
   ]
  },
  {
   "cell_type": "code",
   "execution_count": 18,
   "id": "d305da3f",
   "metadata": {},
   "outputs": [],
   "source": [
    "def generate_weights(n):\n",
    "    if n == 1:\n",
    "        return [10.0]\n",
    "    elif n > 1:\n",
    "        # Linearly space values between 10 and 5 (inclusive), then reverse\n",
    "        weights = [round(w, 2) for w in list(reversed([5 + (10 - 5) * (i / (n - 1)) for i in range(n)]))]\n",
    "        return weights\n",
    "    else:\n",
    "        return []"
   ]
  },
  {
   "cell_type": "code",
   "execution_count": 19,
   "id": "f83d237c",
   "metadata": {},
   "outputs": [],
   "source": [
    "def custom_metric(full_data, top_n, sim_matrix):\n",
    "    \"\"\"\n",
    "    full_data: DataFrame with 'resume_id', 'job_id', and 'matched_score' columns\n",
    "    top_n: Number of top jobs to consider\n",
    "    sim_matrix: Similarity matrix between resumes and jobs\n",
    "    \"\"\"\n",
    "    results = []\n",
    "    \n",
    "    # Generate descending weights from 10 to 5\n",
    "    weights = generate_weights(top_n)\n",
    "    weights_sum = sum(weights)\n",
    "    \n",
    "    for i in range(sim_matrix.shape[0]):  # Iterate over resumes\n",
    "        # Top-N predicted job indices for resume i (sorted by similarity)\n",
    "        top_jobs = sim_matrix[i].argsort()[::-1][:top_n]\n",
    "        top_jobs = [int(j+1) for j in top_jobs]\n",
    "        \n",
    "        # Ground truth top-N job_ids for resume i, sorted by matched_score\n",
    "        golden_top_jobs = full_data[full_data[\"resume_id\"] == i + 1] \\\n",
    "                            .sort_values(by=\"matched_score\", ascending=False)[:top_n]['job_id'].tolist()\n",
    "        simple_score = len(set(top_jobs).intersection(set(golden_top_jobs)))/top_n\n",
    "        \n",
    "        \n",
    "        # Calculate weighted score\n",
    "        weighted_score = 0.0\n",
    "        for idx, pred_job in enumerate(top_jobs):\n",
    "            if (pred_job) in golden_top_jobs:  # sim_matrix job indices are 0-based\n",
    "                weighted_score += weights[idx]\n",
    "\n",
    "        \n",
    "        normalized_score = weighted_score / weights_sum  # Normalize the score\n",
    "\n",
    "        results.append({\n",
    "            \"resume_id\": i + 1,\n",
    "            \"predicted\": top_jobs,  # Convert to 1-based index\n",
    "            \"golden\": golden_top_jobs,\n",
    "            \"weighted_score\": round(normalized_score, 4),\n",
    "            \"simple_score\": simple_score,\n",
    "            \"weights\": weights\n",
    "        })\n",
    "        \n",
    "    return results\n"
   ]
  },
  {
   "cell_type": "code",
   "execution_count": 20,
   "id": "82f7f4ed",
   "metadata": {},
   "outputs": [],
   "source": [
    "results = custom_metric(full_data, 10, sim_matrix)"
   ]
  },
  {
   "cell_type": "code",
   "execution_count": 21,
   "id": "73eea132",
   "metadata": {},
   "outputs": [
    {
     "data": {
      "text/html": [
       "<div>\n",
       "<style scoped>\n",
       "    .dataframe tbody tr th:only-of-type {\n",
       "        vertical-align: middle;\n",
       "    }\n",
       "\n",
       "    .dataframe tbody tr th {\n",
       "        vertical-align: top;\n",
       "    }\n",
       "\n",
       "    .dataframe thead th {\n",
       "        text-align: right;\n",
       "    }\n",
       "</style>\n",
       "<table border=\"1\" class=\"dataframe\">\n",
       "  <thead>\n",
       "    <tr style=\"text-align: right;\">\n",
       "      <th></th>\n",
       "      <th>resume_id</th>\n",
       "      <th>predicted</th>\n",
       "      <th>golden</th>\n",
       "      <th>weighted_score</th>\n",
       "      <th>simple_score</th>\n",
       "      <th>weights</th>\n",
       "    </tr>\n",
       "  </thead>\n",
       "  <tbody>\n",
       "    <tr>\n",
       "      <th>0</th>\n",
       "      <td>1</td>\n",
       "      <td>[21, 20, 10, 2, 6, 25, 15, 27, 12, 11]</td>\n",
       "      <td>[1, 15, 25, 13, 2, 6, 14, 18, 10, 23]</td>\n",
       "      <td>0.5185</td>\n",
       "      <td>0.5</td>\n",
       "      <td>[10.0, 9.44, 8.89, 8.33, 7.78, 7.22, 6.67, 6.1...</td>\n",
       "    </tr>\n",
       "    <tr>\n",
       "      <th>1</th>\n",
       "      <td>2</td>\n",
       "      <td>[21, 2, 25, 1, 24, 6, 12, 15, 26, 27]</td>\n",
       "      <td>[2, 10, 25, 6, 15, 14, 11, 9, 20, 18]</td>\n",
       "      <td>0.4221</td>\n",
       "      <td>0.4</td>\n",
       "      <td>[10.0, 9.44, 8.89, 8.33, 7.78, 7.22, 6.67, 6.1...</td>\n",
       "    </tr>\n",
       "    <tr>\n",
       "      <th>2</th>\n",
       "      <td>3</td>\n",
       "      <td>[9, 25, 21, 1, 2, 20, 23, 13, 6, 5]</td>\n",
       "      <td>[23, 2, 14, 1, 6, 15, 25, 20, 5, 11]</td>\n",
       "      <td>0.6667</td>\n",
       "      <td>0.7</td>\n",
       "      <td>[10.0, 9.44, 8.89, 8.33, 7.78, 7.22, 6.67, 6.1...</td>\n",
       "    </tr>\n",
       "    <tr>\n",
       "      <th>3</th>\n",
       "      <td>4</td>\n",
       "      <td>[9, 12, 25, 24, 21, 6, 18, 8, 22, 19]</td>\n",
       "      <td>[9, 17, 22, 10, 16, 26, 3, 12, 19, 4]</td>\n",
       "      <td>0.4000</td>\n",
       "      <td>0.4</td>\n",
       "      <td>[10.0, 9.44, 8.89, 8.33, 7.78, 7.22, 6.67, 6.1...</td>\n",
       "    </tr>\n",
       "    <tr>\n",
       "      <th>4</th>\n",
       "      <td>5</td>\n",
       "      <td>[16, 22, 17, 24, 9, 12, 25, 19, 6, 8]</td>\n",
       "      <td>[22, 9, 17, 16, 26, 11, 3, 10, 14, 15]</td>\n",
       "      <td>0.4815</td>\n",
       "      <td>0.4</td>\n",
       "      <td>[10.0, 9.44, 8.89, 8.33, 7.78, 7.22, 6.67, 6.1...</td>\n",
       "    </tr>\n",
       "    <tr>\n",
       "      <th>...</th>\n",
       "      <td>...</td>\n",
       "      <td>...</td>\n",
       "      <td>...</td>\n",
       "      <td>...</td>\n",
       "      <td>...</td>\n",
       "      <td>...</td>\n",
       "    </tr>\n",
       "    <tr>\n",
       "      <th>339</th>\n",
       "      <td>340</td>\n",
       "      <td>[21, 2, 6, 15, 25, 1, 11, 13, 10, 20]</td>\n",
       "      <td>[10, 15, 23, 25, 6, 3, 11, 14, 16, 2]</td>\n",
       "      <td>0.6223</td>\n",
       "      <td>0.6</td>\n",
       "      <td>[10.0, 9.44, 8.89, 8.33, 7.78, 7.22, 6.67, 6.1...</td>\n",
       "    </tr>\n",
       "    <tr>\n",
       "      <th>340</th>\n",
       "      <td>341</td>\n",
       "      <td>[9, 28, 18, 7, 11, 13, 1, 8, 12, 10]</td>\n",
       "      <td>[2, 9, 7, 8, 11, 10, 18, 14, 20, 24]</td>\n",
       "      <td>0.6148</td>\n",
       "      <td>0.6</td>\n",
       "      <td>[10.0, 9.44, 8.89, 8.33, 7.78, 7.22, 6.67, 6.1...</td>\n",
       "    </tr>\n",
       "    <tr>\n",
       "      <th>341</th>\n",
       "      <td>342</td>\n",
       "      <td>[26, 19, 9, 13, 16, 18, 12, 27, 11, 28]</td>\n",
       "      <td>[19, 3, 17, 9, 26, 22, 18, 23, 16, 11]</td>\n",
       "      <td>0.6519</td>\n",
       "      <td>0.6</td>\n",
       "      <td>[10.0, 9.44, 8.89, 8.33, 7.78, 7.22, 6.67, 6.1...</td>\n",
       "    </tr>\n",
       "    <tr>\n",
       "      <th>342</th>\n",
       "      <td>343</td>\n",
       "      <td>[21, 25, 2, 6, 15, 1, 20, 24, 12, 5]</td>\n",
       "      <td>[15, 23, 10, 2, 1, 14, 11, 6, 25, 5]</td>\n",
       "      <td>0.6221</td>\n",
       "      <td>0.6</td>\n",
       "      <td>[10.0, 9.44, 8.89, 8.33, 7.78, 7.22, 6.67, 6.1...</td>\n",
       "    </tr>\n",
       "    <tr>\n",
       "      <th>343</th>\n",
       "      <td>344</td>\n",
       "      <td>[21, 25, 6, 2, 15, 23, 10, 1, 12, 13]</td>\n",
       "      <td>[23, 15, 6, 10, 5, 25, 2, 1, 13, 20]</td>\n",
       "      <td>0.7925</td>\n",
       "      <td>0.8</td>\n",
       "      <td>[10.0, 9.44, 8.89, 8.33, 7.78, 7.22, 6.67, 6.1...</td>\n",
       "    </tr>\n",
       "  </tbody>\n",
       "</table>\n",
       "<p>344 rows × 6 columns</p>\n",
       "</div>"
      ],
      "text/plain": [
       "     resume_id                                predicted  \\\n",
       "0            1   [21, 20, 10, 2, 6, 25, 15, 27, 12, 11]   \n",
       "1            2    [21, 2, 25, 1, 24, 6, 12, 15, 26, 27]   \n",
       "2            3      [9, 25, 21, 1, 2, 20, 23, 13, 6, 5]   \n",
       "3            4    [9, 12, 25, 24, 21, 6, 18, 8, 22, 19]   \n",
       "4            5    [16, 22, 17, 24, 9, 12, 25, 19, 6, 8]   \n",
       "..         ...                                      ...   \n",
       "339        340    [21, 2, 6, 15, 25, 1, 11, 13, 10, 20]   \n",
       "340        341     [9, 28, 18, 7, 11, 13, 1, 8, 12, 10]   \n",
       "341        342  [26, 19, 9, 13, 16, 18, 12, 27, 11, 28]   \n",
       "342        343     [21, 25, 2, 6, 15, 1, 20, 24, 12, 5]   \n",
       "343        344    [21, 25, 6, 2, 15, 23, 10, 1, 12, 13]   \n",
       "\n",
       "                                     golden  weighted_score  simple_score  \\\n",
       "0     [1, 15, 25, 13, 2, 6, 14, 18, 10, 23]          0.5185           0.5   \n",
       "1     [2, 10, 25, 6, 15, 14, 11, 9, 20, 18]          0.4221           0.4   \n",
       "2      [23, 2, 14, 1, 6, 15, 25, 20, 5, 11]          0.6667           0.7   \n",
       "3     [9, 17, 22, 10, 16, 26, 3, 12, 19, 4]          0.4000           0.4   \n",
       "4    [22, 9, 17, 16, 26, 11, 3, 10, 14, 15]          0.4815           0.4   \n",
       "..                                      ...             ...           ...   \n",
       "339   [10, 15, 23, 25, 6, 3, 11, 14, 16, 2]          0.6223           0.6   \n",
       "340    [2, 9, 7, 8, 11, 10, 18, 14, 20, 24]          0.6148           0.6   \n",
       "341  [19, 3, 17, 9, 26, 22, 18, 23, 16, 11]          0.6519           0.6   \n",
       "342    [15, 23, 10, 2, 1, 14, 11, 6, 25, 5]          0.6221           0.6   \n",
       "343    [23, 15, 6, 10, 5, 25, 2, 1, 13, 20]          0.7925           0.8   \n",
       "\n",
       "                                               weights  \n",
       "0    [10.0, 9.44, 8.89, 8.33, 7.78, 7.22, 6.67, 6.1...  \n",
       "1    [10.0, 9.44, 8.89, 8.33, 7.78, 7.22, 6.67, 6.1...  \n",
       "2    [10.0, 9.44, 8.89, 8.33, 7.78, 7.22, 6.67, 6.1...  \n",
       "3    [10.0, 9.44, 8.89, 8.33, 7.78, 7.22, 6.67, 6.1...  \n",
       "4    [10.0, 9.44, 8.89, 8.33, 7.78, 7.22, 6.67, 6.1...  \n",
       "..                                                 ...  \n",
       "339  [10.0, 9.44, 8.89, 8.33, 7.78, 7.22, 6.67, 6.1...  \n",
       "340  [10.0, 9.44, 8.89, 8.33, 7.78, 7.22, 6.67, 6.1...  \n",
       "341  [10.0, 9.44, 8.89, 8.33, 7.78, 7.22, 6.67, 6.1...  \n",
       "342  [10.0, 9.44, 8.89, 8.33, 7.78, 7.22, 6.67, 6.1...  \n",
       "343  [10.0, 9.44, 8.89, 8.33, 7.78, 7.22, 6.67, 6.1...  \n",
       "\n",
       "[344 rows x 6 columns]"
      ]
     },
     "execution_count": 21,
     "metadata": {},
     "output_type": "execute_result"
    }
   ],
   "source": [
    "results = pd.DataFrame(results)\n",
    "results"
   ]
  },
  {
   "cell_type": "code",
   "execution_count": 22,
   "id": "f1d2bf95",
   "metadata": {},
   "outputs": [
    {
     "data": {
      "text/plain": [
       "0.5304706395348832"
      ]
     },
     "execution_count": 22,
     "metadata": {},
     "output_type": "execute_result"
    }
   ],
   "source": [
    "sum(results[\"weighted_score\"])/results.shape[0]"
   ]
  },
  {
   "cell_type": "code",
   "execution_count": 23,
   "id": "e7c565ed",
   "metadata": {},
   "outputs": [
    {
     "data": {
      "text/plain": [
       "0.5113372093023254"
      ]
     },
     "execution_count": 23,
     "metadata": {},
     "output_type": "execute_result"
    }
   ],
   "source": [
    "sum(results[\"simple_score\"])/results.shape[0]"
   ]
  },
  {
   "cell_type": "markdown",
   "id": "0a5b6659",
   "metadata": {},
   "source": [
    "From the content based system, we can see 50% of the top 10 recommendations are matching with the original top 10 job matches for the resume."
   ]
  },
  {
   "cell_type": "code",
   "execution_count": null,
   "id": "31d9de7b",
   "metadata": {},
   "outputs": [],
   "source": []
  }
 ],
 "metadata": {
  "kernelspec": {
   "display_name": "Python 3 (ipykernel)",
   "language": "python",
   "name": "python3"
  },
  "language_info": {
   "codemirror_mode": {
    "name": "ipython",
    "version": 3
   },
   "file_extension": ".py",
   "mimetype": "text/x-python",
   "name": "python",
   "nbconvert_exporter": "python",
   "pygments_lexer": "ipython3",
   "version": "3.11.3"
  }
 },
 "nbformat": 4,
 "nbformat_minor": 5
}
