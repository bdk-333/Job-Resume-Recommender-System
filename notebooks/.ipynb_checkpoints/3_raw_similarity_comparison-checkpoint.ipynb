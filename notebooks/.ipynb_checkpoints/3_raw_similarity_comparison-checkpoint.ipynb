{
 "cells": [
  {
   "cell_type": "code",
   "execution_count": 1,
   "id": "0eb9cd89",
   "metadata": {},
   "outputs": [],
   "source": [
    "import pandas as pd\n",
    "import numpy as np"
   ]
  },
  {
   "cell_type": "code",
   "execution_count": 2,
   "id": "18478e10",
   "metadata": {},
   "outputs": [],
   "source": [
    "resumes = pd.read_csv('../data/processed/resume_strings.csv')\n",
    "jobs = pd.read_csv('../data/processed/job_strings.csv')"
   ]
  },
  {
   "cell_type": "code",
   "execution_count": 3,
   "id": "99f84d41",
   "metadata": {},
   "outputs": [
    {
     "data": {
      "text/html": [
       "<div>\n",
       "<style scoped>\n",
       "    .dataframe tbody tr th:only-of-type {\n",
       "        vertical-align: middle;\n",
       "    }\n",
       "\n",
       "    .dataframe tbody tr th {\n",
       "        vertical-align: top;\n",
       "    }\n",
       "\n",
       "    .dataframe thead th {\n",
       "        text-align: right;\n",
       "    }\n",
       "</style>\n",
       "<table border=\"1\" class=\"dataframe\">\n",
       "  <thead>\n",
       "    <tr style=\"text-align: right;\">\n",
       "      <th></th>\n",
       "      <th>Unnamed: 0</th>\n",
       "      <th>combined</th>\n",
       "    </tr>\n",
       "  </thead>\n",
       "  <tbody>\n",
       "    <tr>\n",
       "      <th>0</th>\n",
       "      <td>0</td>\n",
       "      <td>nan Big data analytics working and database wa...</td>\n",
       "    </tr>\n",
       "    <tr>\n",
       "      <th>1</th>\n",
       "      <td>1</td>\n",
       "      <td>nan Fresher looking to join as a data analyst ...</td>\n",
       "    </tr>\n",
       "    <tr>\n",
       "      <th>2</th>\n",
       "      <td>2</td>\n",
       "      <td>nan nan ['Software Development', 'Machine Lear...</td>\n",
       "    </tr>\n",
       "    <tr>\n",
       "      <th>3</th>\n",
       "      <td>3</td>\n",
       "      <td>nan To obtain a position in a fast-paced busin...</td>\n",
       "    </tr>\n",
       "    <tr>\n",
       "      <th>4</th>\n",
       "      <td>4</td>\n",
       "      <td>nan Professional accountant with an outstandin...</td>\n",
       "    </tr>\n",
       "  </tbody>\n",
       "</table>\n",
       "</div>"
      ],
      "text/plain": [
       "   Unnamed: 0                                           combined\n",
       "0           0  nan Big data analytics working and database wa...\n",
       "1           1  nan Fresher looking to join as a data analyst ...\n",
       "2           2  nan nan ['Software Development', 'Machine Lear...\n",
       "3           3  nan To obtain a position in a fast-paced busin...\n",
       "4           4  nan Professional accountant with an outstandin..."
      ]
     },
     "execution_count": 3,
     "metadata": {},
     "output_type": "execute_result"
    }
   ],
   "source": [
    "resumes.head()"
   ]
  },
  {
   "cell_type": "code",
   "execution_count": 4,
   "id": "0e7cb5b3",
   "metadata": {},
   "outputs": [],
   "source": [
    "resumes.columns = ['resume_id', 'resume_data']"
   ]
  },
  {
   "cell_type": "code",
   "execution_count": 5,
   "id": "3f8b9885",
   "metadata": {},
   "outputs": [
    {
     "data": {
      "text/html": [
       "<div>\n",
       "<style scoped>\n",
       "    .dataframe tbody tr th:only-of-type {\n",
       "        vertical-align: middle;\n",
       "    }\n",
       "\n",
       "    .dataframe tbody tr th {\n",
       "        vertical-align: top;\n",
       "    }\n",
       "\n",
       "    .dataframe thead th {\n",
       "        text-align: right;\n",
       "    }\n",
       "</style>\n",
       "<table border=\"1\" class=\"dataframe\">\n",
       "  <thead>\n",
       "    <tr style=\"text-align: right;\">\n",
       "      <th></th>\n",
       "      <th>Unnamed: 0</th>\n",
       "      <th>combined</th>\n",
       "    </tr>\n",
       "  </thead>\n",
       "  <tbody>\n",
       "    <tr>\n",
       "      <th>0</th>\n",
       "      <td>0</td>\n",
       "      <td>Senior Software Engineer B.Sc in Computer Scie...</td>\n",
       "    </tr>\n",
       "    <tr>\n",
       "      <th>1</th>\n",
       "      <td>1</td>\n",
       "      <td>Machine Learning (ML) Engineer M.Sc in Compute...</td>\n",
       "    </tr>\n",
       "    <tr>\n",
       "      <th>2</th>\n",
       "      <td>2</td>\n",
       "      <td>Executive/ Senior Executive- Trade Marketing, ...</td>\n",
       "    </tr>\n",
       "    <tr>\n",
       "      <th>3</th>\n",
       "      <td>3</td>\n",
       "      <td>Business Development Executive Bachelor/Honors...</td>\n",
       "    </tr>\n",
       "    <tr>\n",
       "      <th>4</th>\n",
       "      <td>4</td>\n",
       "      <td>Senior iOS Engineer Bachelor of Science (BSc) ...</td>\n",
       "    </tr>\n",
       "  </tbody>\n",
       "</table>\n",
       "</div>"
      ],
      "text/plain": [
       "   Unnamed: 0                                           combined\n",
       "0           0  Senior Software Engineer B.Sc in Computer Scie...\n",
       "1           1  Machine Learning (ML) Engineer M.Sc in Compute...\n",
       "2           2  Executive/ Senior Executive- Trade Marketing, ...\n",
       "3           3  Business Development Executive Bachelor/Honors...\n",
       "4           4  Senior iOS Engineer Bachelor of Science (BSc) ..."
      ]
     },
     "execution_count": 5,
     "metadata": {},
     "output_type": "execute_result"
    }
   ],
   "source": [
    "jobs.head()"
   ]
  },
  {
   "cell_type": "code",
   "execution_count": 6,
   "id": "c094d82d",
   "metadata": {},
   "outputs": [],
   "source": [
    "jobs.columns = ['job_id', 'job_data']"
   ]
  },
  {
   "cell_type": "code",
   "execution_count": 7,
   "id": "e499a1df",
   "metadata": {},
   "outputs": [
    {
     "data": {
      "text/plain": [
       "(9544, 2)"
      ]
     },
     "execution_count": 7,
     "metadata": {},
     "output_type": "execute_result"
    }
   ],
   "source": [
    "resumes.shape"
   ]
  },
  {
   "cell_type": "code",
   "execution_count": 8,
   "id": "9d113927",
   "metadata": {},
   "outputs": [
    {
     "data": {
      "text/plain": [
       "(28, 2)"
      ]
     },
     "execution_count": 8,
     "metadata": {},
     "output_type": "execute_result"
    }
   ],
   "source": [
    "jobs.shape"
   ]
  },
  {
   "cell_type": "markdown",
   "id": "5325b7e2",
   "metadata": {},
   "source": [
    "## Calculating similarity matrix:"
   ]
  },
  {
   "cell_type": "code",
   "execution_count": 9,
   "id": "28d6977b",
   "metadata": {},
   "outputs": [],
   "source": [
    "from sklearn.feature_extraction.text import TfidfVectorizer"
   ]
  },
  {
   "cell_type": "code",
   "execution_count": 10,
   "id": "8fcdacff",
   "metadata": {},
   "outputs": [],
   "source": [
    "tfidf = TfidfVectorizer()"
   ]
  },
  {
   "cell_type": "code",
   "execution_count": 11,
   "id": "f251bce5",
   "metadata": {},
   "outputs": [],
   "source": [
    "resume_tfidf = tfidf.fit_transform(resumes['resume_data'])\n",
    "job_tfidf = tfidf.transform(jobs['job_data'])"
   ]
  },
  {
   "cell_type": "code",
   "execution_count": 12,
   "id": "873ca568",
   "metadata": {},
   "outputs": [
    {
     "name": "stdout",
     "output_type": "stream",
     "text": [
      "(9544, 5134)\n",
      "(28, 5134)\n"
     ]
    }
   ],
   "source": [
    "print(resume_tfidf.shape)\n",
    "print(job_tfidf.shape)"
   ]
  },
  {
   "cell_type": "markdown",
   "id": "a1eb2bdd",
   "metadata": {},
   "source": [
    "## Visualizing jobs:"
   ]
  },
  {
   "cell_type": "code",
   "execution_count": 31,
   "id": "8057f5a7",
   "metadata": {},
   "outputs": [],
   "source": [
    "from sklearn.cluster import KMeans\n",
    "kmeans = KMeans(n_clusters=3, random_state=42)\n",
    "resume_labels = kmeans.fit_predict(resume_tfidf)"
   ]
  },
  {
   "cell_type": "code",
   "execution_count": 32,
   "id": "37459d82",
   "metadata": {},
   "outputs": [],
   "source": [
    "from sklearn.decomposition import PCA\n",
    "pca = PCA(n_components=2)\n",
    "points = pca.fit_transform(resume_tfidf)"
   ]
  },
  {
   "cell_type": "code",
   "execution_count": 34,
   "id": "564857de",
   "metadata": {},
   "outputs": [
    {
     "data": {
      "image/png": "[encoded data removed]",
      "text/plain": [
       "<Figure size 640x480 with 1 Axes>"
      ]
     },
     "metadata": {},
     "output_type": "display_data"
    }
   ],
   "source": [
    "import matplotlib.pyplot as plt\n",
    "plt.scatter(points[:,0], points[:,1], c=resume_labels, cmap='tab10')\n",
    "plt.title('Resume Embedding Clusters')\n",
    "plt.show()"
   ]
  },
  {
   "cell_type": "code",
   "execution_count": 35,
   "id": "3af58dec",
   "metadata": {},
   "outputs": [
    {
     "data": {
      "text/plain": [
       "(9544,)"
      ]
     },
     "execution_count": 35,
     "metadata": {},
     "output_type": "execute_result"
    }
   ],
   "source": [
    "resume_labels.shape"
   ]
  },
  {
   "cell_type": "code",
   "execution_count": 36,
   "id": "ca88c814",
   "metadata": {},
   "outputs": [
    {
     "data": {
      "text/plain": [
       "array([[0.00198521, 0.00054201, 0.00054201, ..., 0.        , 0.        ,\n",
       "        0.        ],\n",
       "       [0.        , 0.        , 0.        , ..., 0.0014366 , 0.0013148 ,\n",
       "        0.        ],\n",
       "       [0.        , 0.        , 0.        , ..., 0.        , 0.        ,\n",
       "        0.00517391]])"
      ]
     },
     "execution_count": 36,
     "metadata": {},
     "output_type": "execute_result"
    }
   ],
   "source": [
    "kmeans.cluster_centers_"
   ]
  },
  {
   "cell_type": "markdown",
   "id": "0ba0364f",
   "metadata": {},
   "source": [
    "## Creating cosine sim matrix"
   ]
  },
  {
   "cell_type": "code",
   "execution_count": 38,
   "id": "fe68f812",
   "metadata": {},
   "outputs": [],
   "source": [
    "from sklearn.metrics.pairwise import cosine_similarity\n",
    "sim_matrix = cosine_similarity(resume_tfidf, job_tfidf)"
   ]
  },
  {
   "cell_type": "markdown",
   "id": "28f0ce2a",
   "metadata": {},
   "source": [
    "### Finding top recommendations for first 5 resumes:"
   ]
  },
  {
   "cell_type": "code",
   "execution_count": 40,
   "id": "e2015dbd",
   "metadata": {},
   "outputs": [],
   "source": [
    "top_n = 3\n",
    "recommendations = []\n",
    "\n",
    "for i in range(5):\n",
    "    top_jobs = sim_matrix[i].argsort()[::-1][:top_n]\n",
    "    recommendations.append({\n",
    "        \"resume_id\": resumes.loc[i, \"resume_id\"],\n",
    "        \"top_recommendations\": [jobs.loc[j, \"job_id\"] for j in top_jobs]\n",
    "    })"
   ]
  },
  {
   "cell_type": "code",
   "execution_count": 41,
   "id": "56b484a9",
   "metadata": {},
   "outputs": [
    {
     "name": "stdout",
     "output_type": "stream",
     "text": [
      "Sample Resumes and Their Top-3 Job Recommendations:\n",
      "   resume_id top_recommendations\n",
      "0          0         [38, 0, 31]\n",
      "1          1          [1, 38, 5]\n",
      "2          2         [2, 128, 0]\n",
      "3          3         [3, 18, 38]\n",
      "4          4         [4, 42, 49]\n"
     ]
    }
   ],
   "source": [
    "print(f\"Sample Resumes and Their Top-3 Job Recommendations:\\n{pd.DataFrame(recommendations)}\")"
   ]
  },
  {
   "cell_type": "code",
   "execution_count": 49,
   "id": "0f948310",
   "metadata": {},
   "outputs": [
    {
     "data": {
      "text/html": [
       "<div>\n",
       "<style scoped>\n",
       "    .dataframe tbody tr th:only-of-type {\n",
       "        vertical-align: middle;\n",
       "    }\n",
       "\n",
       "    .dataframe tbody tr th {\n",
       "        vertical-align: top;\n",
       "    }\n",
       "\n",
       "    .dataframe thead th {\n",
       "        text-align: right;\n",
       "    }\n",
       "</style>\n",
       "<table border=\"1\" class=\"dataframe\">\n",
       "  <thead>\n",
       "    <tr style=\"text-align: right;\">\n",
       "      <th></th>\n",
       "      <th>resume_id</th>\n",
       "      <th>resume_data</th>\n",
       "    </tr>\n",
       "  </thead>\n",
       "  <tbody>\n",
       "    <tr>\n",
       "      <th>0</th>\n",
       "      <td>0</td>\n",
       "      <td>nan Big data analytics working and database wa...</td>\n",
       "    </tr>\n",
       "    <tr>\n",
       "      <th>1</th>\n",
       "      <td>1</td>\n",
       "      <td>nan Fresher looking to join as a data analyst ...</td>\n",
       "    </tr>\n",
       "    <tr>\n",
       "      <th>2</th>\n",
       "      <td>2</td>\n",
       "      <td>nan nan ['Software Development', 'Machine Lear...</td>\n",
       "    </tr>\n",
       "    <tr>\n",
       "      <th>3</th>\n",
       "      <td>3</td>\n",
       "      <td>nan To obtain a position in a fast-paced busin...</td>\n",
       "    </tr>\n",
       "    <tr>\n",
       "      <th>4</th>\n",
       "      <td>4</td>\n",
       "      <td>nan Professional accountant with an outstandin...</td>\n",
       "    </tr>\n",
       "  </tbody>\n",
       "</table>\n",
       "</div>"
      ],
      "text/plain": [
       "   resume_id                                        resume_data\n",
       "0          0  nan Big data analytics working and database wa...\n",
       "1          1  nan Fresher looking to join as a data analyst ...\n",
       "2          2  nan nan ['Software Development', 'Machine Lear...\n",
       "3          3  nan To obtain a position in a fast-paced busin...\n",
       "4          4  nan Professional accountant with an outstandin..."
      ]
     },
     "execution_count": 49,
     "metadata": {},
     "output_type": "execute_result"
    }
   ],
   "source": [
    "# resumes\n",
    "resumes[resumes['resume_id'].isin([0,1,2,3,4])]"
   ]
  },
  {
   "cell_type": "code",
   "execution_count": 47,
   "id": "34b75930",
   "metadata": {},
   "outputs": [
    {
     "data": {
      "text/html": [
       "<div>\n",
       "<style scoped>\n",
       "    .dataframe tbody tr th:only-of-type {\n",
       "        vertical-align: middle;\n",
       "    }\n",
       "\n",
       "    .dataframe tbody tr th {\n",
       "        vertical-align: top;\n",
       "    }\n",
       "\n",
       "    .dataframe thead th {\n",
       "        text-align: right;\n",
       "    }\n",
       "</style>\n",
       "<table border=\"1\" class=\"dataframe\">\n",
       "  <thead>\n",
       "    <tr style=\"text-align: right;\">\n",
       "      <th></th>\n",
       "      <th>job_id</th>\n",
       "      <th>job_data</th>\n",
       "    </tr>\n",
       "  </thead>\n",
       "  <tbody>\n",
       "    <tr>\n",
       "      <th>0</th>\n",
       "      <td>0</td>\n",
       "      <td>Senior Software Engineer B.Sc in Computer Scie...</td>\n",
       "    </tr>\n",
       "    <tr>\n",
       "      <th>1</th>\n",
       "      <td>1</td>\n",
       "      <td>Machine Learning (ML) Engineer M.Sc in Compute...</td>\n",
       "    </tr>\n",
       "    <tr>\n",
       "      <th>2</th>\n",
       "      <td>2</td>\n",
       "      <td>Executive/ Senior Executive- Trade Marketing, ...</td>\n",
       "    </tr>\n",
       "    <tr>\n",
       "      <th>3</th>\n",
       "      <td>3</td>\n",
       "      <td>Business Development Executive Bachelor/Honors...</td>\n",
       "    </tr>\n",
       "    <tr>\n",
       "      <th>4</th>\n",
       "      <td>4</td>\n",
       "      <td>Senior iOS Engineer Bachelor of Science (BSc) ...</td>\n",
       "    </tr>\n",
       "    <tr>\n",
       "      <th>5</th>\n",
       "      <td>5</td>\n",
       "      <td>AI Engineer Bachelors or Masters degree in Com...</td>\n",
       "    </tr>\n",
       "    <tr>\n",
       "      <th>6</th>\n",
       "      <td>8</td>\n",
       "      <td>Mechanical Engineer Bachelor of Science (BSc) ...</td>\n",
       "    </tr>\n",
       "    <tr>\n",
       "      <th>7</th>\n",
       "      <td>10</td>\n",
       "      <td>Mechanical Designer Bachelor’s degree in Mecha...</td>\n",
       "    </tr>\n",
       "    <tr>\n",
       "      <th>8</th>\n",
       "      <td>11</td>\n",
       "      <td>Asst. Manager/ Manger (Administrative) Bachelo...</td>\n",
       "    </tr>\n",
       "    <tr>\n",
       "      <th>9</th>\n",
       "      <td>15</td>\n",
       "      <td>Database Administrator (DBA) Bachelor of Scien...</td>\n",
       "    </tr>\n",
       "    <tr>\n",
       "      <th>10</th>\n",
       "      <td>16</td>\n",
       "      <td>System Administrator (Operation &amp; Maintenance ...</td>\n",
       "    </tr>\n",
       "    <tr>\n",
       "      <th>11</th>\n",
       "      <td>18</td>\n",
       "      <td>Project Coordinator (Civil) •Bachelor of Busin...</td>\n",
       "    </tr>\n",
       "    <tr>\n",
       "      <th>12</th>\n",
       "      <td>19</td>\n",
       "      <td>Executive/ Sr. Executive -IT Bachelor of Scien...</td>\n",
       "    </tr>\n",
       "    <tr>\n",
       "      <th>13</th>\n",
       "      <td>21</td>\n",
       "      <td>Network Support Engineer Diploma, Bachelor/Hon...</td>\n",
       "    </tr>\n",
       "    <tr>\n",
       "      <th>14</th>\n",
       "      <td>23</td>\n",
       "      <td>Intern (Generative AI Engineering - 2D/3D Imag...</td>\n",
       "    </tr>\n",
       "    <tr>\n",
       "      <th>15</th>\n",
       "      <td>24</td>\n",
       "      <td>Executive - VAT BBA in Accounting and Finance ...</td>\n",
       "    </tr>\n",
       "    <tr>\n",
       "      <th>16</th>\n",
       "      <td>26</td>\n",
       "      <td>Sr.Officer / Executive - Internal Audit Master...</td>\n",
       "    </tr>\n",
       "    <tr>\n",
       "      <th>17</th>\n",
       "      <td>27</td>\n",
       "      <td>Management Trainee - Mechanical Fresh graduate...</td>\n",
       "    </tr>\n",
       "    <tr>\n",
       "      <th>18</th>\n",
       "      <td>30</td>\n",
       "      <td>HR Officer •Bachelor of Business Administratio...</td>\n",
       "    </tr>\n",
       "    <tr>\n",
       "      <th>19</th>\n",
       "      <td>31</td>\n",
       "      <td>DevOps Engineer Bachelor/Honors At least 3 yea...</td>\n",
       "    </tr>\n",
       "    <tr>\n",
       "      <th>20</th>\n",
       "      <td>38</td>\n",
       "      <td>Data Engineer Bachelor of Science (BSc) 5 to 8...</td>\n",
       "    </tr>\n",
       "    <tr>\n",
       "      <th>21</th>\n",
       "      <td>42</td>\n",
       "      <td>Head of Internal Control &amp; Compliance (ICC) - ...</td>\n",
       "    </tr>\n",
       "    <tr>\n",
       "      <th>22</th>\n",
       "      <td>43</td>\n",
       "      <td>Full Stack Developer (Python,React js) Bachelo...</td>\n",
       "    </tr>\n",
       "    <tr>\n",
       "      <th>23</th>\n",
       "      <td>47</td>\n",
       "      <td>Civil Engineer B.Sc in Civil Engineering from ...</td>\n",
       "    </tr>\n",
       "    <tr>\n",
       "      <th>24</th>\n",
       "      <td>49</td>\n",
       "      <td>Data Science Engineer Bachelor of Science (BSc...</td>\n",
       "    </tr>\n",
       "    <tr>\n",
       "      <th>25</th>\n",
       "      <td>116</td>\n",
       "      <td>Manager- Human Resource Management (HRM)\\n Mas...</td>\n",
       "    </tr>\n",
       "    <tr>\n",
       "      <th>26</th>\n",
       "      <td>128</td>\n",
       "      <td>Marketing Officer Bachelor/Honors At least 1 y...</td>\n",
       "    </tr>\n",
       "    <tr>\n",
       "      <th>27</th>\n",
       "      <td>135</td>\n",
       "      <td>Site Engineer Bachelor of Science (BSc) in Civ...</td>\n",
       "    </tr>\n",
       "  </tbody>\n",
       "</table>\n",
       "</div>"
      ],
      "text/plain": [
       "    job_id                                           job_data\n",
       "0        0  Senior Software Engineer B.Sc in Computer Scie...\n",
       "1        1  Machine Learning (ML) Engineer M.Sc in Compute...\n",
       "2        2  Executive/ Senior Executive- Trade Marketing, ...\n",
       "3        3  Business Development Executive Bachelor/Honors...\n",
       "4        4  Senior iOS Engineer Bachelor of Science (BSc) ...\n",
       "5        5  AI Engineer Bachelors or Masters degree in Com...\n",
       "6        8  Mechanical Engineer Bachelor of Science (BSc) ...\n",
       "7       10  Mechanical Designer Bachelor’s degree in Mecha...\n",
       "8       11  Asst. Manager/ Manger (Administrative) Bachelo...\n",
       "9       15  Database Administrator (DBA) Bachelor of Scien...\n",
       "10      16  System Administrator (Operation & Maintenance ...\n",
       "11      18  Project Coordinator (Civil) •Bachelor of Busin...\n",
       "12      19  Executive/ Sr. Executive -IT Bachelor of Scien...\n",
       "13      21  Network Support Engineer Diploma, Bachelor/Hon...\n",
       "14      23  Intern (Generative AI Engineering - 2D/3D Imag...\n",
       "15      24  Executive - VAT BBA in Accounting and Finance ...\n",
       "16      26  Sr.Officer / Executive - Internal Audit Master...\n",
       "17      27  Management Trainee - Mechanical Fresh graduate...\n",
       "18      30  HR Officer •Bachelor of Business Administratio...\n",
       "19      31  DevOps Engineer Bachelor/Honors At least 3 yea...\n",
       "20      38  Data Engineer Bachelor of Science (BSc) 5 to 8...\n",
       "21      42  Head of Internal Control & Compliance (ICC) - ...\n",
       "22      43  Full Stack Developer (Python,React js) Bachelo...\n",
       "23      47  Civil Engineer B.Sc in Civil Engineering from ...\n",
       "24      49  Data Science Engineer Bachelor of Science (BSc...\n",
       "25     116  Manager- Human Resource Management (HRM)\\n Mas...\n",
       "26     128  Marketing Officer Bachelor/Honors At least 1 y...\n",
       "27     135  Site Engineer Bachelor of Science (BSc) in Civ..."
      ]
     },
     "execution_count": 47,
     "metadata": {},
     "output_type": "execute_result"
    }
   ],
   "source": [
    "# jobs\n",
    "jobs"
   ]
  },
  {
   "cell_type": "markdown",
   "id": "0b314951",
   "metadata": {},
   "source": [
    "For the first resume, we the top 3 recommendations are job_id = 38, 0, 31."
   ]
  },
  {
   "cell_type": "code",
   "execution_count": 61,
   "id": "8b4be231",
   "metadata": {},
   "outputs": [
    {
     "name": "stdout",
     "output_type": "stream",
     "text": [
      "0                                                                                                                           Senior Software Engineer B.Sc in Computer Science & Engineering from a reputed university. At least 1 year nan Technical Support\\nTroubleshooting\\nCollaboration\\nDocumentation\\nSystem Monitoring\\nSoftware Deployment\\nTraining & Mentorship\\nIndustry Trends\\nField Visits\\n\\n\\n\\n\\n nan\n",
      "19    DevOps Engineer Bachelor/Honors At least 3 years nan Open-Source Technologies\\nCI/CD Culture & Tooling\\nProduct Availability & Scalability\\nAutomation (Build & Deploy)\\nMonitoring & Reliability\\nInfrastructure Innovation\\nSoftware Engineering Velocity\\nInfrastructure Resiliency\\nSecurity & Data Availability Ansible\\nAWS Cloud\\nCloud Platform\\nDevOps\\nDockers and Kubernetes\\nJava\\nReactJS\\nTerraform\n",
      "20                                                                                 Data Engineer Bachelor of Science (BSc) 5 to 8 years nan Data Platform Design\\nData Pipeline Development\\nETL Processes\\nSQL Query Optimization\\nData Integration & Transformation\\nData Modeling\\nStakeholder Collaboration\\nData Quality Monitoring\\nContinuous Learning Azure\\nBig Data\\nData Analytics\\nETL Tools\\nPower BI\\nSQL\n",
      "Name: job_data, dtype: object\n"
     ]
    }
   ],
   "source": [
    "pd.set_option('display.max_colwidth', None)\n",
    "print(jobs[jobs['job_id'].isin([38, 0, 31])]['job_data'])"
   ]
  },
  {
   "cell_type": "code",
   "execution_count": 60,
   "id": "c689f623",
   "metadata": {},
   "outputs": [
    {
     "name": "stdout",
     "output_type": "stream",
     "text": [
      "nan Big data analytics working and database warehouse manager with robust experience in handling all kinds of data. I have also used multiple cloud infrastructure services and am well acquainted with them. Currently in search of role that offers more of development. ['Big Data', 'Hadoop', 'Hive', 'Python', 'Mapreduce', 'Spark', 'Java', 'Machine Learning', 'Cloud', 'Hdfs', 'YARN', 'Core Java', 'Data Science', 'C++', 'Data Structures', 'DBMS', 'RDBMS', 'Informatica', 'Talend', 'Amazon Redshift', 'Microsoft Azure'] ['The Amity School of Engineering & Technology (ASET), Noida'] ['B.Tech'] ['2019'] ['N/A'] [None] ['Electronics'] ['Coca-COla'] [None] ['Nov 2019'] ['Till Date'] [['Big Data']] ['Big Data Analyst'] ['N/A'] Technical Support\n",
      "Troubleshooting\n",
      "Collaboration\n",
      "Documentation\n",
      "System Monitoring\n",
      "Software Deployment\n",
      "Training & Mentorship\n",
      "Industry Trends\n",
      "Field Visits\n",
      "\n",
      "\n",
      "\n",
      "\n",
      " nan nan nan nan nan nan nan nan nan nan nan\n"
     ]
    }
   ],
   "source": [
    "print(resumes.iloc[0, 1])"
   ]
  },
  {
   "cell_type": "code",
   "execution_count": null,
   "id": "56058961",
   "metadata": {},
   "outputs": [],
   "source": []
  }
 ],
 "metadata": {
  "kernelspec": {
   "display_name": "Python 3 (ipykernel)",
   "language": "python",
   "name": "python3"
  },
  "language_info": {
   "codemirror_mode": {
    "name": "ipython",
    "version": 3
   },
   "file_extension": ".py",
   "mimetype": "text/x-python",
   "name": "python",
   "nbconvert_exporter": "python",
   "pygments_lexer": "ipython3",
   "version": "3.11.3"
  }
 },
 "nbformat": 4,
 "nbformat_minor": 5
}
